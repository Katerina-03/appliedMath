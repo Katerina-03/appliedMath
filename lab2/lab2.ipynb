{
 "cells": [
  {
   "cell_type": "markdown",
   "source": [
    "## Лабораторная работа №2 по прикладной математике\n",
    "\n",
    "### Выполнили: Ребрик Артем, Кудряшов Егор, Васильева Екатерина\n",
    "\n",
    "### Группа: М32081"
   ],
   "metadata": {
    "collapsed": false
   }
  },
  {
   "cell_type": "markdown",
   "source": [
    "#### Метод дихотомии\n",
    "##### Идея: вычисление на каждой очередной итерации двух значений функции в точках,отстоящих слева и справа на $\\delta$ от середины интервала<br>\n",
    "$(a,b)$ - интервал<br>\n",
    "$\\delta < \\frac{\\epsilon}{2}$, $\\epsilon$ - точность<br>\n",
    "$\\frac{a+b}{2}$ - середина интервала<br>\n",
    "$x_1=\\frac{a_i+b_i}{2} - \\delta$<br>\n",
    "$x_2=\\frac{a_i+b_i}{2} + \\delta$<br>\n",
    "Алгоритм:\n",
    "1) выбираем середину отрезка <br>\n",
    "2) находим точки $х_1$, $х_2$<br>\n",
    "3) вычисляем $f(x_1),f(x_2)$, сравниваем значения, если $f(x_1)<f(x_2)$ : рассматриваем отрезок $[a,x_2]$  получаем $b \\gets x_2$, или если $f(x_1)\\geqslant f(x_2)$: рассматриваем отрезок $[x_1, b]$ получаем $a \\gets x_1$ <br>\n",
    "###### Преимущества метода: высокая скорость сходимости, т.е интервал на каждом шаге уменьшается в два раза<br>\n",
    "###### Недостатки: на каждом шаге надо два раза вычислять значение функции, а это повышает время работы<br>\n",
    "\n"
   ],
   "metadata": {
    "collapsed": false
   }
  },
  {
   "cell_type": "code",
   "execution_count": 409,
   "outputs": [
    {
     "name": "stdout",
     "output_type": "stream",
     "text": [
      "(4.999952370910645, 17, 34, [[3.99996, 5], [4.49994, 5], [4.749929999999999, 5], [4.874924999999999, 5], [4.937422499999999, 5], [4.96867125, 5], [4.984295625, 5], [4.9921078125, 5], [4.996013906249999, 5], [4.997966953124999, 5], [4.998943476562499, 5], [4.999431738281249, 5], [4.999675869140624, 5], [4.999797934570312, 5], [4.999858967285156, 5], [4.999889483642578, 5], [4.999904741821289, 5]])\n"
     ]
    }
   ],
   "source": [
    "import numpy as np\n",
    "def dichotomy_method(func, a, b, eps):\n",
    "    n_iter = 0\n",
    "    n_calculation = 0\n",
    "    segments = []\n",
    "\n",
    "    while b - a > eps:\n",
    "        c, d = (a + b) / 2 - eps / 2.5, (a + b) / 2 + eps / 2.5\n",
    "\n",
    "        if func(c) < func(d):\n",
    "            b = d\n",
    "        else:\n",
    "            a = c\n",
    "\n",
    "        segments.append([a, b])\n",
    "        n_calculation += 2\n",
    "        n_iter += 1\n",
    "\n",
    "    return (a + b) / 2, n_iter, n_calculation, segments\n",
    "print(dichotomy_method(lambda x: np.sin(x)*x**2, 3, 5, 0.0001))"
   ],
   "metadata": {
    "collapsed": false
   }
  },
  {
   "cell_type": "code",
   "execution_count": 410,
   "outputs": [
    {
     "name": "stdout",
     "output_type": "stream",
     "text": [
      "(4.99976948852539, 15, 30, [[3.9998, 5], [4.4997, 5], [4.74965, 5], [4.874624999999999, 5], [4.937112499999999, 5], [4.9683562499999985, 5], [4.983978124999999, 5], [4.9917890625, 5], [4.99569453125, 5], [4.997647265624999, 5], [4.998623632812499, 5], [4.999111816406249, 5], [4.999355908203124, 5], [4.999477954101562, 5], [4.99953897705078, 5]])\n"
     ]
    }
   ],
   "source": [
    "print(dichotomy_method(lambda x: np.sin(x)*x**2, 3, 5, 0.0005))"
   ],
   "metadata": {
    "collapsed": false
   }
  },
  {
   "cell_type": "code",
   "execution_count": 411,
   "outputs": [
    {
     "name": "stdout",
     "output_type": "stream",
     "text": [
      "(4.999538989257813, 14, 28, [[3.9996, 5], [4.4994000000000005, 5], [4.749300000000001, 5], [4.874250000000001, 5], [4.936725, 5], [4.9679625, 5], [4.983581249999999, 5], [4.991390625, 5], [4.995295312500001, 5], [4.997247656250001, 5], [4.998223828125, 5], [4.9987119140625, 5], [4.99895595703125, 5], [4.999077978515625, 5]])\n"
     ]
    }
   ],
   "source": [
    "print(dichotomy_method(lambda x: np.sin(x)*x**2, 3, 5, 0.001))"
   ],
   "metadata": {
    "collapsed": false
   }
  },
  {
   "cell_type": "markdown",
   "source": [
    "#### Метод золотого сечения\n",
    "##### Идея: в методе дихотомии на каждом шаге вычисляются два значения функции, а используется только одно; в методе золотого сечения как раз устраняется эта проблема: вычисляются два значения на первой итерации, а на следующей используется второе значение функции, рассчитанной на предыдущей итерации, в качестве внутернней точки на новом выбранном интервале<br>\n",
    "\n",
    "Алгоритм:\n",
    "1) точки $x_1, x_2$ находятся относительно середиины отрезка [a,b]  и делят его в пропорции золотого сечения, т.е длина всего отрезка относится к длине большей его части также, как длина большей части относится к длине меньшей части $\\frac{b-a}{b-x_1}=\\frac{b-x_1}{x_1-a}$<br>\n",
    "2) из предыдущего уравнения находим $x_1 = a_i+\\frac{\\sqrt 5-1}{2} *(b_i-a_i)$, аналогично для второй точки<br>\n",
    "3) вычисляем $f(x_1),f(x_2)$, сравниваем значения, если $f(x_1)<f(x_2)$ : рассматриваем отрезок $[a,x_2]$  получаем $b \\gets x_2$ и $x_1$ - внутренняя точка этого отрезка, или если $f(x_1)\\geqslant f(x_2)$: рассматриваем отрезок $[x_1, b]$ получаем $a \\gets x_1$ и $x_2$ - внутренняя точка этого отрезка<br>\n",
    "на $const = \\frac{\\sqrt 5-1}{2}$ будет уменьшаться отрезок за одну итерацию <br>\n",
    "###### Преимуществом метода является минимальное количество вычислений<br>\n",
    "###### Недостатки: более медленная скорость сходимости по сравнению с методом дихотомии<br>"
   ],
   "metadata": {
    "collapsed": false
   }
  },
  {
   "cell_type": "markdown",
   "source": [],
   "metadata": {
    "collapsed": false
   }
  },
  {
   "cell_type": "code",
   "execution_count": 412,
   "outputs": [
    {
     "name": "stdout",
     "output_type": "stream",
     "text": [
      "(4.999959143650992, 21, 23, [[3.76393202250021, 5], [4.23606797749979, 5], [4.52786404500042, 5], [4.708203932499369, 5], [4.819660112501051, 5], [4.8885438199983176, 5], [4.931116292502733, 5], [4.957427527495583, 5], [4.97368876500715, 5], [4.983738762488433, 5], [4.989950002518717, 5], [4.993788759969716, 5], [4.996161242549001, 5], [4.997627517420716, 5], [4.9985337251282855, 5], [4.99909379229243, 5], [4.9994399328358545, 5], [4.999653859456576, 5], [4.999786073379279, 5], [4.999867786077297, 5], [4.999918287301983, 5]])\n"
     ]
    }
   ],
   "source": [
    "def golden_method(func, a, b, eps):\n",
    "    n_iter = 0\n",
    "    n_calculation = 2\n",
    "    segments = []\n",
    "    fi = ((np.sqrt(5) + 1) / 2)\n",
    "\n",
    "    c = b + (a - b) / fi\n",
    "    d = a + (b - a) / fi\n",
    "\n",
    "    fc = func(c)\n",
    "    fd = func(d)\n",
    "\n",
    "    while b - a >= eps:\n",
    "        if fc < fd:\n",
    "            b = d\n",
    "            d = c\n",
    "            fd = fc\n",
    "            c = b + (a - b) / fi\n",
    "            fc = func(c)\n",
    "        else:\n",
    "            a = c\n",
    "            c = d\n",
    "            fc = fd\n",
    "            d = a + (b - a) / fi\n",
    "            fd = func(d)\n",
    "\n",
    "        segments.append([a, b])\n",
    "        n_iter += 1\n",
    "        n_calculation += 1\n",
    "\n",
    "    return (a + b) / 2, n_iter, n_calculation, segments\n",
    "print(golden_method(lambda x: np.sin(x)*x**2, 3, 5, 0.0001))"
   ],
   "metadata": {
    "collapsed": false
   }
  },
  {
   "cell_type": "code",
   "execution_count": 413,
   "outputs": [
    {
     "name": "stdout",
     "output_type": "stream",
     "text": [
      "(4.999826929728288, 18, 20, [[3.76393202250021, 5], [4.23606797749979, 5], [4.52786404500042, 5], [4.708203932499369, 5], [4.819660112501051, 5], [4.8885438199983176, 5], [4.931116292502733, 5], [4.957427527495583, 5], [4.97368876500715, 5], [4.983738762488433, 5], [4.989950002518717, 5], [4.993788759969716, 5], [4.996161242549001, 5], [4.997627517420716, 5], [4.9985337251282855, 5], [4.99909379229243, 5], [4.9994399328358545, 5], [4.999653859456576, 5]])\n"
     ]
    }
   ],
   "source": [
    "print(golden_method(lambda x: np.sin(x)*x**2, 3, 5, 0.0005))"
   ],
   "metadata": {
    "collapsed": false
   }
  },
  {
   "cell_type": "code",
   "execution_count": 414,
   "outputs": [
    {
     "name": "stdout",
     "output_type": "stream",
     "text": [
      "(4.9995468961462155, 16, 18, [[3.76393202250021, 5], [4.23606797749979, 5], [4.52786404500042, 5], [4.708203932499369, 5], [4.819660112501051, 5], [4.8885438199983176, 5], [4.931116292502733, 5], [4.957427527495583, 5], [4.97368876500715, 5], [4.983738762488433, 5], [4.989950002518717, 5], [4.993788759969716, 5], [4.996161242549001, 5], [4.997627517420716, 5], [4.9985337251282855, 5], [4.99909379229243, 5]])\n"
     ]
    }
   ],
   "source": [
    "print(golden_method(lambda x: np.sin(x)*x**2, 3, 5, 0.001))"
   ],
   "metadata": {
    "collapsed": false
   }
  },
  {
   "cell_type": "markdown",
   "source": [
    "#### Метод Фибоначчи\n",
    "##### Идея: это улучшенная версия метода золотого сечения, отличие - коэффициент сжатия интервала, который меняется на каждой итерации в соответствии с последовательностью Фибонначи, и требует знания количества итеарций<br>\n",
    "$(a,b)$ - интервал<br>\n",
    "$c = a + \\frac{F_{n-2}}{F_n} *(b-a)$<br>\n",
    "$d = a + \\frac{F_{n-1}}{F_n} *(b-a)$<br>\n",
    "Алгоритм:\n",
    "1) $F_0 \\gets F_1 \\gets 1$, смотрим количество N и сопоставляем с последовательностью Фибоначчи : 1,1,2,3,5,8,13,21,34,55... (игнорируя 0)\n",
    "2) находим точку с и симметричную ей точку d, помещенную в интервал $(c,b)$\n",
    "3) находим $f(c), f(d)$ и сравниваем: если $f(c)<f(d)$ - исключаем правый интервал $b \\gets d, d \\gets c$ и находим заново точку $с$, $f(c)\\geqslant f(d)$ - исключаем левый интервал, $a \\gets c, c \\gets d$ и находим заново точку $d$, если $с=d$ - stop\n",
    "###### Преимущества: более эффективен, чем метод золотого сечения, так как требует меньшего количества итераций и, следовательно, вычислений функции для нахождения ответа.<br>"
   ],
   "metadata": {
    "collapsed": false
   }
  },
  {
   "cell_type": "markdown",
   "source": [],
   "metadata": {
    "collapsed": false
   }
  },
  {
   "cell_type": "code",
   "execution_count": 415,
   "outputs": [
    {
     "name": "stdout",
     "output_type": "stream",
     "text": [
      "(4.999930209023973, 20, 22, [[3.7639320235893496, 5], [4.23606797641065, 5], [4.527864047178699, 5], [4.70820392923195, 5], [4.819660117946749, 5], [4.888543811285201, 5], [4.931116306661549, 5], [4.957427504623652, 5], [4.973688802037897, 5], [4.983738702585756, 5], [4.989950099452141, 5], [4.9937886031336145, 5], [4.996161496318526, 5], [4.997627106815089, 5], [4.998534389503437, 5], [4.999092717311652, 5], [4.999441672191786, 5], [4.999651045119866, 5], [4.99979062707192, 5], [4.9998604180479465, 5]])\n"
     ]
    }
   ],
   "source": [
    "def fib_method(func, a, b, eps):\n",
    "    segments = []\n",
    "    F = [1, 1]\n",
    "    n = 1\n",
    "\n",
    "    n += 1\n",
    "    F.append(F[n - 1] + F[n - 2])\n",
    "\n",
    "    while (b - a) / F[n] > eps:\n",
    "        n += 1\n",
    "        F.append(F[n - 1] + F[n - 2])\n",
    "\n",
    "    c = a + (b - a) * F[n - 2] / F[n]\n",
    "    d = a + (b - a) * F[n - 1] / F[n]\n",
    "    fc = func(c)\n",
    "    fd = func(d)\n",
    "\n",
    "    n_iter = 0\n",
    "    n_calculation = 2\n",
    "\n",
    "    while n != 2:\n",
    "        n -= 1\n",
    "\n",
    "        if fc < fd:\n",
    "            b = d\n",
    "            d = c\n",
    "            fd = fc\n",
    "            c = a + (b - a) * F[n - 2] / F[n]\n",
    "            fc = func(c)\n",
    "        else:\n",
    "            a = c\n",
    "            c = d\n",
    "            fc = fd\n",
    "            d = a + (b - a) * F[n - 1] / F[n]\n",
    "            fd = func(d)\n",
    "\n",
    "        segments.append([a, b])\n",
    "        n_iter += 1\n",
    "        n_calculation += 1\n",
    "\n",
    "    return (a + b) / 2, n_iter, n_calculation, segments\n",
    "print(fib_method(lambda x: np.sin(x)*x**2, 3, 5, 0.0001))"
   ],
   "metadata": {
    "collapsed": false
   }
  },
  {
   "cell_type": "code",
   "execution_count": 416,
   "outputs": [
    {
     "name": "stdout",
     "output_type": "stream",
     "text": [
      "(4.999521645539344, 16, 18, [[3.763932073666587, 5], [4.236067926333413, 5], [4.527864147333174, 5], [4.708203779000239, 5], [4.819660368332935, 5], [4.888543410667304, 5], [4.931116957665631, 5], [4.957426453001674, 5], [4.973690504663956, 5], [4.983735948337718, 5], [4.9899545563262375, 5], [4.99378139201148, 5], [4.996173164314757, 5], [4.997608227696723, 5], [4.998564936618034, 5], [4.9990432910786895, 5]])\n"
     ]
    }
   ],
   "source": [
    "print(fib_method(lambda x: np.sin(x)*x**2, 3, 5, 0.0005))"
   ],
   "metadata": {
    "collapsed": false
   }
  },
  {
   "cell_type": "code",
   "execution_count": 417,
   "outputs": [
    {
     "name": "stdout",
     "output_type": "stream",
     "text": [
      "(4.99922600619195, 15, 17, [[3.763931888544892, 5], [4.236068111455109, 5], [4.527863777089784, 5], [4.708204334365325, 5], [4.819659442724459, 5], [4.8885448916408665, 5], [4.931114551083591, 5], [4.957430340557275, 5], [4.973684210526316, 5], [4.983746130030959, 5], [4.989938080495356, 5], [4.993808049535604, 5], [4.996130030959752, 5], [4.997678018575852, 5], [4.9984520123839005, 5]])\n"
     ]
    }
   ],
   "source": [
    "print(fib_method(lambda x: np.sin(x)*x**2, 3, 5, 0.001))"
   ],
   "metadata": {
    "collapsed": false
   }
  },
  {
   "cell_type": "markdown",
   "source": [
    "#### Метод парабол\n",
    "##### Идея: аппроксимирует функцию f(x) квадратичной функцией p(x) = $ax^2 + bx +c$ <br>\n",
    "точки $x_1, x_3$ - концы интервала, $x_2$ - внутренняя точка<br>\n",
    "$x_1<x_2<x_3$<br>\n",
    "$x_{min} \\in [x_1, x_3]$<br>\n",
    "Алгоритм:\n",
    "1) кофициенты параболы a, b и  c  могут быть найдены путем решения системы линейных уравнений\n",
    "$ax_{12} + bx_1 + c = f(x_1)$<br>\n",
    "$ax_{22} + bx_2 + c = f(x_2)$ <br>\n",
    "$ax_{32} + bx_3 + c = f(x_3)$ <br>\n",
    "2) минимум параболы $u$ (её вершина) $= -\\frac{b}{2a} = x_2 - \\frac{(x_2 - x_1)^2 (f_2 - f_3) - (x_2 - x_3)^2 (f_3 - f_1)}{2[(x_2 - x_1)(f_2 - f_3) - (x_2 - x_3)(f_2 - f_1)]}$ <br>\n",
    "3) если $f(x_2)<f(x_1) и f(x_2)<f(x_3)$, то точка $u$ точно попадает в интервал $[x_1, x_3]$, таким образом внутри данного интервала определены две точки: $x_2$ и $u$ <br>\n",
    "4)  с помощью сравнения значений функции сокращаем интервал поиска<br>\n",
    "###### Преимущества: метод имеет суперлинейную скорость сходимости, но гарантируется только в малой окрестности сходимости, так как начальное приближение может не попасть в эту окрестность<br>\n",
    "###### Недостатки: на начальных этапах (при поиске малой окрестности) работает линейно, а может и вообще развалиться<br>"
   ],
   "metadata": {
    "collapsed": false
   }
  },
  {
   "cell_type": "code",
   "execution_count": 418,
   "outputs": [
    {
     "name": "stdout",
     "output_type": "stream",
     "text": [
      "(5.086985065731215, 16, 19, [[3, 146.2873407451449], [3, 9.085779432745731], [3.81, 9.085779432745731], [3.81, 5.632418084807624], [3.81, 5.37440480568452], [4.947099387762302, 5.37440480568452], [5.039554991387448, 5.37440480568452], [5.081775073265515, 5.37440480568452], [5.085447146377708, 5.37440480568452], [5.086790613744312, 5.37440480568452], [5.086935117821796, 5.37440480568452], [5.086978044797668, 5.37440480568452], [5.086983449646712, 5.37440480568452], [5.08698484340276, 5.37440480568452], [5.086985039499121, 5.37440480568452], [5.086985039499121, 5.0869850919633075]])\n"
     ]
    }
   ],
   "source": [
    "def parabolic_method(f, x1, x2, x3, epsilon):\n",
    "    segments = []\n",
    "    f1, f2, f3 = f(x1), f(x2), f(x3)\n",
    "    n_iter = 0\n",
    "    n_calc = 3\n",
    "    while x3 - x1 > epsilon:\n",
    "        u = x2 - ((x2 - x1)**2*(f2 - f3) - (x2 - x3)**2*(f2 - f1))/(2*((x2 - x1)*(f2 - f3) - (x2 - x3)*(f2 - f1)))\n",
    "        fu = f(u)\n",
    "\n",
    "        if x2 <= u:\n",
    "            if f2 <= fu:\n",
    "                x1, x2, x3 = x1, x2, u\n",
    "                f1, f2, f3 = f1, f2, fu\n",
    "            else:\n",
    "                x1, x2, x3 = x2, u, x3\n",
    "                f1, f2, f3 = f2, fu, f3\n",
    "        else:\n",
    "            if fu <= f2:\n",
    "                x1, x2, x3 = x1, u, x2\n",
    "                f1, f2, f3 = f1, fu, f2\n",
    "            else:\n",
    "                x1, x2, x3 = u, x2, x3\n",
    "                f1, f2, f3 = fu, f2, f3\n",
    "\n",
    "        segments.append([x1, x3])\n",
    "        n_iter += 1\n",
    "        n_calc += 1\n",
    "\n",
    "    return (x1 + x3) / 2, n_iter, n_calc, segments\n",
    "print(parabolic_method(lambda x: np.sin(x)*x**2, 3, 3.81, 5, 0.0001))"
   ],
   "metadata": {
    "collapsed": false
   }
  },
  {
   "cell_type": "code",
   "execution_count": 419,
   "outputs": [
    {
     "name": "stdout",
     "output_type": "stream",
     "text": [
      "(5.086985065731215, 16, 19, [[3, 146.2873407451449], [3, 9.085779432745731], [3.81, 9.085779432745731], [3.81, 5.632418084807624], [3.81, 5.37440480568452], [4.947099387762302, 5.37440480568452], [5.039554991387448, 5.37440480568452], [5.081775073265515, 5.37440480568452], [5.085447146377708, 5.37440480568452], [5.086790613744312, 5.37440480568452], [5.086935117821796, 5.37440480568452], [5.086978044797668, 5.37440480568452], [5.086983449646712, 5.37440480568452], [5.08698484340276, 5.37440480568452], [5.086985039499121, 5.37440480568452], [5.086985039499121, 5.0869850919633075]])\n"
     ]
    }
   ],
   "source": [
    "print(parabolic_method(lambda x: np.sin(x)*x**2, 3, 3.81, 5, 0.0005))"
   ],
   "metadata": {
    "collapsed": false
   }
  },
  {
   "cell_type": "markdown",
   "source": [],
   "metadata": {
    "collapsed": false
   }
  },
  {
   "cell_type": "code",
   "execution_count": 420,
   "outputs": [
    {
     "name": "stdout",
     "output_type": "stream",
     "text": [
      "(5.086985065731215, 16, 19, [[3, 146.2873407451449], [3, 9.085779432745731], [3.81, 9.085779432745731], [3.81, 5.632418084807624], [3.81, 5.37440480568452], [4.947099387762302, 5.37440480568452], [5.039554991387448, 5.37440480568452], [5.081775073265515, 5.37440480568452], [5.085447146377708, 5.37440480568452], [5.086790613744312, 5.37440480568452], [5.086935117821796, 5.37440480568452], [5.086978044797668, 5.37440480568452], [5.086983449646712, 5.37440480568452], [5.08698484340276, 5.37440480568452], [5.086985039499121, 5.37440480568452], [5.086985039499121, 5.0869850919633075]])\n"
     ]
    }
   ],
   "source": [
    "print(parabolic_method(lambda x: np.sin(x)*x**2, 3, 3.81, 5, 0.001))"
   ],
   "metadata": {
    "collapsed": false
   }
  },
  {
   "cell_type": "markdown",
   "source": [
    "#### Метод Брента\n",
    "##### Идея: в отличии от метода парабол, в методе Брента аппроксимирующая парабола строится с помощью трех наилучших трех точек, а остлеживается вообще 6 <br>\n",
    "$(a,b)$ - интервал<br>\n",
    "$\\omega$ - 2 значение функции снизу <br>\n",
    "$\\upsilon$ - предыдущее значение $\\omega$<br>\n",
    "$x$ - наименьшее значение <br>\n",
    "$u$ - минимум параболы <br>\n",
    "При этом минимум параболы принимается в качестве следующей точки оптимизации, если:\n",
    "1) $u \\in [a,b]$ и $[a,u] > \\epsilon, [u,b] > \\epsilon$\n",
    "2) от $x$ до $u$ не больше половины предыдущих шагов\n",
    "(т.к $u$ - min параболы, а нет гарантий что $x \\in (\\upsilon,\\omega)$, т.е определяем минимальную окрестность вершины, чтобы метод парабол сработал суперлинейно, избежание малых шагов оптимизации)<br>\n",
    "А если точка минимуа отвергается, то находится другая точка с помощью метода золотого сечения большего интервала $max{[a,x],[x,b]}$ ( $max$ - чтобы не было больших шагов оптимизации)<br>\n",
    "###### Преимущества: обладает более высокой точностью и быстрой сходимостью<br>"
   ],
   "metadata": {
    "collapsed": false
   }
  },
  {
   "cell_type": "code",
   "execution_count": 421,
   "outputs": [
    {
     "name": "stdout",
     "output_type": "stream",
     "text": [
      "(4.99987985323921, 15, 16, [[3.618033988749895, 5], [4.0, 5], [4.381966011250105, 5], [4.75911306429747, 5], [4.905321574448058, 5], [4.961168255881098, 5], [4.982499790029632, 5], [4.990647711042192, 5], [4.9937599399313415, 5], [4.9956834031656046, 5], [4.997527708575621, 5], [4.998667552004647, 5], [4.99917650185063, 5], [4.999491050154017, 5], [4.999685451696614, 5]])\n"
     ]
    }
   ],
   "source": [
    "def brenth_method(func, a, c, eps):\n",
    "    n_iters = 0\n",
    "    n_calc = 1\n",
    "    segments = []\n",
    "\n",
    "    K = (3 - np.sqrt(5)) / 2\n",
    "    x = w = v = (a + c) / 2\n",
    "    fx = fw = fv = func(x)\n",
    "    d = e = c - a\n",
    "    u = float('+inf')\n",
    "\n",
    "    while c - a > eps:\n",
    "        g, e = e, d\n",
    "\n",
    "        if len(set([x, w, v])) == 3 and len(set([fx, fw, fv])) == 3:\n",
    "            p = (x - w) ** 2 * (fx - fv) - (x - v) ** 2 * (fx - fw)\n",
    "            q = 2 * (x - w) * (fx - fv) - (x - v) * (fx - fw)\n",
    "            u = x - p/q\n",
    "\n",
    "        if a + eps <= u <= c - eps and 2 * abs(u - x) < g:\n",
    "            d = abs(u - x)\n",
    "        else:\n",
    "            if x < (c + a) * .5:\n",
    "                d = c - x\n",
    "                u = x + K * d\n",
    "            else:\n",
    "                d = x - a\n",
    "                u = x - K * d\n",
    "\n",
    "        if abs(u - x) < eps:\n",
    "            return u, n_iters, n_calc, segments\n",
    "\n",
    "        fu = func(u)\n",
    "\n",
    "        if fu <= fx:\n",
    "            if u >= x:\n",
    "                a = x\n",
    "            else:\n",
    "                c = x\n",
    "            v, w, x = w, x, u\n",
    "            fv, fw, fx = fw, fx, fu\n",
    "\n",
    "        else:\n",
    "            if u >= x:\n",
    "                c = u\n",
    "            else:\n",
    "                a = u\n",
    "\n",
    "            if fu <= fw or w == x:\n",
    "                v, w = w, u\n",
    "                fv, fw = fw, fu\n",
    "            elif fu <= fv or v == x or v == w:\n",
    "                v = u\n",
    "                fv = fu\n",
    "\n",
    "        segments.append([a, c])\n",
    "        n_iters += 1\n",
    "        n_calc += 1\n",
    "\n",
    "    return (a + c) / 2, n_iters, n_calc, segments\n",
    "print(brenth_method(lambda x: np.sin(x)*x**2, 3, 5, 0.0001))"
   ],
   "metadata": {
    "collapsed": false
   }
  },
  {
   "cell_type": "code",
   "execution_count": 422,
   "outputs": [
    {
     "name": "stdout",
     "output_type": "stream",
     "text": [
      "(4.999491050154017, 12, 13, [[3.618033988749895, 5], [4.0, 5], [4.381966011250105, 5], [4.75911306429747, 5], [4.905321574448058, 5], [4.961168255881098, 5], [4.982499790029632, 5], [4.990647711042192, 5], [4.9937599399313415, 5], [4.9956834031656046, 5], [4.997527708575621, 5], [4.998667552004647, 5]])\n"
     ]
    }
   ],
   "source": [
    "print(brenth_method(lambda x: np.sin(x)*x**2, 3, 5, 0.0005))"
   ],
   "metadata": {
    "collapsed": false
   }
  },
  {
   "cell_type": "code",
   "execution_count": 423,
   "outputs": [
    {
     "name": "stdout",
     "output_type": "stream",
     "text": [
      "(4.99917650185063, 11, 12, [[3.618033988749895, 5], [4.0, 5], [4.381966011250105, 5], [4.75911306429747, 5], [4.905321574448058, 5], [4.961168255881098, 5], [4.982499790029632, 5], [4.990647711042192, 5], [4.9937599399313415, 5], [4.9956834031656046, 5], [4.997527708575621, 5]])\n"
     ]
    }
   ],
   "source": [
    "print(brenth_method(lambda x: np.sin(x)*x**2, 3, 5, 0.001))"
   ],
   "metadata": {
    "collapsed": false
   }
  },
  {
   "cell_type": "markdown",
   "source": [],
   "metadata": {
    "collapsed": false
   }
  },
  {
   "cell_type": "code",
   "execution_count": 424,
   "outputs": [],
   "source": [
    "import plotly.express as px\n",
    "import pandas as pd\n",
    "from plotly.subplots import make_subplots\n",
    "import plotly.graph_objects as go"
   ],
   "metadata": {
    "collapsed": false
   }
  },
  {
   "cell_type": "code",
   "execution_count": 425,
   "outputs": [],
   "source": [
    "def test_functions(func, a, b, epsilons):\n",
    "    n_iters = np.empty([5, len(epsilons)])\n",
    "    n_calcs = np.empty([5, len(epsilons)])\n",
    "    for i, eps in enumerate(epsilons):\n",
    "        d_res = dichotomy_method(func, a, b, eps)\n",
    "        fib_res = fib_method(func, a, b, eps)\n",
    "        b_res = brenth_method(func, a, b, eps)\n",
    "        g_res = golden_method(func, a, b, eps)\n",
    "        p_res = parabolic_method(func, a, (a + b) / 2, b, eps)\n",
    "\n",
    "        n_iters[0,i] = d_res[1]\n",
    "        n_iters[1,i] = fib_res[1]\n",
    "        n_iters[2,i] = b_res[1]\n",
    "        n_iters[3,i] = g_res[1]\n",
    "        n_iters[4,i] = p_res[1]\n",
    "\n",
    "        n_calcs[0,i] = d_res[2]\n",
    "        n_calcs[1,i] = fib_res[2]\n",
    "        n_calcs[2,i] = b_res[2]\n",
    "        n_calcs[3,i] = g_res[2]\n",
    "        n_calcs[4,i] = p_res[2]\n",
    "\n",
    "        d_segments = pd.DataFrame(\n",
    "            data={\n",
    "                'l': np.array(d_res[-1])[:,0],\n",
    "                'r': np.array(d_res[-1])[:,1]\n",
    "            }\n",
    "        )\n",
    "        fib_segments = pd.DataFrame(\n",
    "            data={\n",
    "                'l': np.array(fib_res[-1])[:, 0],\n",
    "                'r': np.array(fib_res[-1])[:, 1]\n",
    "            }\n",
    "        )\n",
    "        b_segments = pd.DataFrame(\n",
    "            data={\n",
    "                'l': np.array(b_res[-1])[:, 0],\n",
    "                'r': np.array(b_res[-1])[:, 1]\n",
    "            }\n",
    "        )\n",
    "        g_segments = pd.DataFrame(\n",
    "            data={\n",
    "                'l': np.array(g_res[-1])[:, 0],\n",
    "                'r': np.array(g_res[-1])[:, 1],\n",
    "\n",
    "            }\n",
    "        )\n",
    "        p_segments = pd.DataFrame(\n",
    "            data={\n",
    "                'l': np.array(p_res[-1])[:, 0],\n",
    "                'r': np.array(p_res[-1])[:, 1]\n",
    "            }\n",
    "        )\n",
    "\n",
    "        df = pd.concat([d_segments, fib_segments, b_segments, g_segments, p_segments], axis=1)\n",
    "        new_df = pd.DataFrame(\n",
    "            df.to_numpy(),\n",
    "            columns=pd.MultiIndex.from_product([['dichotomy', 'fib', 'brenth', 'golden', 'parabolic'],['l', 'r']], names=['Method:', 'Ends:'])\n",
    "        )\n",
    "        display(new_df)\n",
    "\n",
    "    fig = make_subplots(rows=1, cols=5, x_title=\"Точность\", y_title=\"Количество итераций\", shared_yaxes=True)\n",
    "    fig2 = make_subplots(rows=1, cols=5, x_title=\"Точность\", y_title=\"Количество вычислений функции\", shared_yaxes=True)\n",
    "    for i in range(5):\n",
    "        name = \"\"\n",
    "\n",
    "        if i == 0:\n",
    "            name = 'dichotomy'\n",
    "        if i == 1:\n",
    "            name = 'fib'\n",
    "        if i == 2:\n",
    "            name = 'brenth'\n",
    "        if i == 3:\n",
    "            name = 'golden'\n",
    "        if i == 4:\n",
    "            name = 'parabolic'\n",
    "\n",
    "        fig.add_trace(go.Scatter(x=epsilons, y=n_iters[i], name=name),row=1, col=i + 1)\n",
    "        fig2.add_trace(go.Scatter(x=epsilons, y=n_calcs[i], name=name),row=1, col=i + 1)\n",
    "    fig.update_layout(title_text='Количество итераций в зависимости от точности')\n",
    "    fig2.update_layout(title_text=\"Количество вычислений функции в зависимости от точности\")\n",
    "\n",
    "    fig.show()\n",
    "    fig2.show()"
   ],
   "metadata": {
    "collapsed": false
   }
  },
  {
   "cell_type": "code",
   "execution_count": 426,
   "outputs": [
    {
     "data": {
      "text/plain": "Method: dichotomy            fib         brenth         golden      parabolic   \nEnds:           l    r         l    r         l    r         l    r         l   \n0        3.999960  5.0  3.763932  5.0  3.618034  5.0  3.763932  5.0  4.000000  \\\n1        4.499940  5.0  4.236068  5.0  4.000000  5.0  4.236068  5.0  9.282305   \n2        4.749930  5.0  4.527864  5.0  4.381966  5.0  4.527864  5.0       NaN   \n3        4.874925  5.0  4.708204  5.0  4.759113  5.0  4.708204  5.0       NaN   \n4        4.937422  5.0  4.819660  5.0  4.905322  5.0  4.819660  5.0       NaN   \n5        4.968671  5.0  4.888544  5.0  4.961168  5.0  4.888544  5.0       NaN   \n6        4.984296  5.0  4.931116  5.0  4.982500  5.0  4.931116  5.0       NaN   \n7        4.992108  5.0  4.957428  5.0  4.990648  5.0  4.957428  5.0       NaN   \n8        4.996014  5.0  4.973689  5.0  4.993760  5.0  4.973689  5.0       NaN   \n9        4.997967  5.0  4.983739  5.0  4.995683  5.0  4.983739  5.0       NaN   \n10       4.998943  5.0  4.989950  5.0  4.997528  5.0  4.989950  5.0       NaN   \n11       4.999432  5.0  4.993789  5.0  4.998668  5.0  4.993789  5.0       NaN   \n12       4.999676  5.0  4.996161  5.0  4.999177  5.0  4.996161  5.0       NaN   \n13       4.999798  5.0  4.997627  5.0  4.999491  5.0  4.997628  5.0       NaN   \n14       4.999859  5.0  4.998534  5.0  4.999685  5.0  4.998534  5.0       NaN   \n15       4.999889  5.0  4.999093  5.0       NaN  NaN  4.999094  5.0       NaN   \n16       4.999905  5.0  4.999442  5.0       NaN  NaN  4.999440  5.0       NaN   \n17            NaN  NaN  4.999651  5.0       NaN  NaN  4.999654  5.0       NaN   \n18            NaN  NaN  4.999791  5.0       NaN  NaN  4.999786  5.0       NaN   \n19            NaN  NaN  4.999860  5.0       NaN  NaN  4.999868  5.0       NaN   \n20            NaN  NaN       NaN  NaN       NaN  NaN  4.999918  5.0       NaN   \n\nMethod:       \nEnds:      r  \n0        5.0  \n1        5.0  \n2        NaN  \n3        NaN  \n4        NaN  \n5        NaN  \n6        NaN  \n7        NaN  \n8        NaN  \n9        NaN  \n10       NaN  \n11       NaN  \n12       NaN  \n13       NaN  \n14       NaN  \n15       NaN  \n16       NaN  \n17       NaN  \n18       NaN  \n19       NaN  \n20       NaN  ",
      "text/html": "<div>\n<style scoped>\n    .dataframe tbody tr th:only-of-type {\n        vertical-align: middle;\n    }\n\n    .dataframe tbody tr th {\n        vertical-align: top;\n    }\n\n    .dataframe thead tr th {\n        text-align: left;\n    }\n</style>\n<table border=\"1\" class=\"dataframe\">\n  <thead>\n    <tr>\n      <th>Method:</th>\n      <th colspan=\"2\" halign=\"left\">dichotomy</th>\n      <th colspan=\"2\" halign=\"left\">fib</th>\n      <th colspan=\"2\" halign=\"left\">brenth</th>\n      <th colspan=\"2\" halign=\"left\">golden</th>\n      <th colspan=\"2\" halign=\"left\">parabolic</th>\n    </tr>\n    <tr>\n      <th>Ends:</th>\n      <th>l</th>\n      <th>r</th>\n      <th>l</th>\n      <th>r</th>\n      <th>l</th>\n      <th>r</th>\n      <th>l</th>\n      <th>r</th>\n      <th>l</th>\n      <th>r</th>\n    </tr>\n  </thead>\n  <tbody>\n    <tr>\n      <th>0</th>\n      <td>3.999960</td>\n      <td>5.0</td>\n      <td>3.763932</td>\n      <td>5.0</td>\n      <td>3.618034</td>\n      <td>5.0</td>\n      <td>3.763932</td>\n      <td>5.0</td>\n      <td>4.000000</td>\n      <td>5.0</td>\n    </tr>\n    <tr>\n      <th>1</th>\n      <td>4.499940</td>\n      <td>5.0</td>\n      <td>4.236068</td>\n      <td>5.0</td>\n      <td>4.000000</td>\n      <td>5.0</td>\n      <td>4.236068</td>\n      <td>5.0</td>\n      <td>9.282305</td>\n      <td>5.0</td>\n    </tr>\n    <tr>\n      <th>2</th>\n      <td>4.749930</td>\n      <td>5.0</td>\n      <td>4.527864</td>\n      <td>5.0</td>\n      <td>4.381966</td>\n      <td>5.0</td>\n      <td>4.527864</td>\n      <td>5.0</td>\n      <td>NaN</td>\n      <td>NaN</td>\n    </tr>\n    <tr>\n      <th>3</th>\n      <td>4.874925</td>\n      <td>5.0</td>\n      <td>4.708204</td>\n      <td>5.0</td>\n      <td>4.759113</td>\n      <td>5.0</td>\n      <td>4.708204</td>\n      <td>5.0</td>\n      <td>NaN</td>\n      <td>NaN</td>\n    </tr>\n    <tr>\n      <th>4</th>\n      <td>4.937422</td>\n      <td>5.0</td>\n      <td>4.819660</td>\n      <td>5.0</td>\n      <td>4.905322</td>\n      <td>5.0</td>\n      <td>4.819660</td>\n      <td>5.0</td>\n      <td>NaN</td>\n      <td>NaN</td>\n    </tr>\n    <tr>\n      <th>5</th>\n      <td>4.968671</td>\n      <td>5.0</td>\n      <td>4.888544</td>\n      <td>5.0</td>\n      <td>4.961168</td>\n      <td>5.0</td>\n      <td>4.888544</td>\n      <td>5.0</td>\n      <td>NaN</td>\n      <td>NaN</td>\n    </tr>\n    <tr>\n      <th>6</th>\n      <td>4.984296</td>\n      <td>5.0</td>\n      <td>4.931116</td>\n      <td>5.0</td>\n      <td>4.982500</td>\n      <td>5.0</td>\n      <td>4.931116</td>\n      <td>5.0</td>\n      <td>NaN</td>\n      <td>NaN</td>\n    </tr>\n    <tr>\n      <th>7</th>\n      <td>4.992108</td>\n      <td>5.0</td>\n      <td>4.957428</td>\n      <td>5.0</td>\n      <td>4.990648</td>\n      <td>5.0</td>\n      <td>4.957428</td>\n      <td>5.0</td>\n      <td>NaN</td>\n      <td>NaN</td>\n    </tr>\n    <tr>\n      <th>8</th>\n      <td>4.996014</td>\n      <td>5.0</td>\n      <td>4.973689</td>\n      <td>5.0</td>\n      <td>4.993760</td>\n      <td>5.0</td>\n      <td>4.973689</td>\n      <td>5.0</td>\n      <td>NaN</td>\n      <td>NaN</td>\n    </tr>\n    <tr>\n      <th>9</th>\n      <td>4.997967</td>\n      <td>5.0</td>\n      <td>4.983739</td>\n      <td>5.0</td>\n      <td>4.995683</td>\n      <td>5.0</td>\n      <td>4.983739</td>\n      <td>5.0</td>\n      <td>NaN</td>\n      <td>NaN</td>\n    </tr>\n    <tr>\n      <th>10</th>\n      <td>4.998943</td>\n      <td>5.0</td>\n      <td>4.989950</td>\n      <td>5.0</td>\n      <td>4.997528</td>\n      <td>5.0</td>\n      <td>4.989950</td>\n      <td>5.0</td>\n      <td>NaN</td>\n      <td>NaN</td>\n    </tr>\n    <tr>\n      <th>11</th>\n      <td>4.999432</td>\n      <td>5.0</td>\n      <td>4.993789</td>\n      <td>5.0</td>\n      <td>4.998668</td>\n      <td>5.0</td>\n      <td>4.993789</td>\n      <td>5.0</td>\n      <td>NaN</td>\n      <td>NaN</td>\n    </tr>\n    <tr>\n      <th>12</th>\n      <td>4.999676</td>\n      <td>5.0</td>\n      <td>4.996161</td>\n      <td>5.0</td>\n      <td>4.999177</td>\n      <td>5.0</td>\n      <td>4.996161</td>\n      <td>5.0</td>\n      <td>NaN</td>\n      <td>NaN</td>\n    </tr>\n    <tr>\n      <th>13</th>\n      <td>4.999798</td>\n      <td>5.0</td>\n      <td>4.997627</td>\n      <td>5.0</td>\n      <td>4.999491</td>\n      <td>5.0</td>\n      <td>4.997628</td>\n      <td>5.0</td>\n      <td>NaN</td>\n      <td>NaN</td>\n    </tr>\n    <tr>\n      <th>14</th>\n      <td>4.999859</td>\n      <td>5.0</td>\n      <td>4.998534</td>\n      <td>5.0</td>\n      <td>4.999685</td>\n      <td>5.0</td>\n      <td>4.998534</td>\n      <td>5.0</td>\n      <td>NaN</td>\n      <td>NaN</td>\n    </tr>\n    <tr>\n      <th>15</th>\n      <td>4.999889</td>\n      <td>5.0</td>\n      <td>4.999093</td>\n      <td>5.0</td>\n      <td>NaN</td>\n      <td>NaN</td>\n      <td>4.999094</td>\n      <td>5.0</td>\n      <td>NaN</td>\n      <td>NaN</td>\n    </tr>\n    <tr>\n      <th>16</th>\n      <td>4.999905</td>\n      <td>5.0</td>\n      <td>4.999442</td>\n      <td>5.0</td>\n      <td>NaN</td>\n      <td>NaN</td>\n      <td>4.999440</td>\n      <td>5.0</td>\n      <td>NaN</td>\n      <td>NaN</td>\n    </tr>\n    <tr>\n      <th>17</th>\n      <td>NaN</td>\n      <td>NaN</td>\n      <td>4.999651</td>\n      <td>5.0</td>\n      <td>NaN</td>\n      <td>NaN</td>\n      <td>4.999654</td>\n      <td>5.0</td>\n      <td>NaN</td>\n      <td>NaN</td>\n    </tr>\n    <tr>\n      <th>18</th>\n      <td>NaN</td>\n      <td>NaN</td>\n      <td>4.999791</td>\n      <td>5.0</td>\n      <td>NaN</td>\n      <td>NaN</td>\n      <td>4.999786</td>\n      <td>5.0</td>\n      <td>NaN</td>\n      <td>NaN</td>\n    </tr>\n    <tr>\n      <th>19</th>\n      <td>NaN</td>\n      <td>NaN</td>\n      <td>4.999860</td>\n      <td>5.0</td>\n      <td>NaN</td>\n      <td>NaN</td>\n      <td>4.999868</td>\n      <td>5.0</td>\n      <td>NaN</td>\n      <td>NaN</td>\n    </tr>\n    <tr>\n      <th>20</th>\n      <td>NaN</td>\n      <td>NaN</td>\n      <td>NaN</td>\n      <td>NaN</td>\n      <td>NaN</td>\n      <td>NaN</td>\n      <td>4.999918</td>\n      <td>5.0</td>\n      <td>NaN</td>\n      <td>NaN</td>\n    </tr>\n  </tbody>\n</table>\n</div>"
     },
     "metadata": {},
     "output_type": "display_data"
    },
    {
     "data": {
      "text/plain": "Method: dichotomy            fib         brenth         golden      parabolic   \nEnds:           l    r         l    r         l    r         l    r         l   \n0        3.999800  5.0  3.763932  5.0  3.618034  5.0  3.763932  5.0  4.000000  \\\n1        4.499700  5.0  4.236068  5.0  4.000000  5.0  4.236068  5.0  9.282305   \n2        4.749650  5.0  4.527864  5.0  4.381966  5.0  4.527864  5.0       NaN   \n3        4.874625  5.0  4.708204  5.0  4.759113  5.0  4.708204  5.0       NaN   \n4        4.937112  5.0  4.819660  5.0  4.905322  5.0  4.819660  5.0       NaN   \n5        4.968356  5.0  4.888543  5.0  4.961168  5.0  4.888544  5.0       NaN   \n6        4.983978  5.0  4.931117  5.0  4.982500  5.0  4.931116  5.0       NaN   \n7        4.991789  5.0  4.957426  5.0  4.990648  5.0  4.957428  5.0       NaN   \n8        4.995695  5.0  4.973691  5.0  4.993760  5.0  4.973689  5.0       NaN   \n9        4.997647  5.0  4.983736  5.0  4.995683  5.0  4.983739  5.0       NaN   \n10       4.998624  5.0  4.989955  5.0  4.997528  5.0  4.989950  5.0       NaN   \n11       4.999112  5.0  4.993781  5.0  4.998668  5.0  4.993789  5.0       NaN   \n12       4.999356  5.0  4.996173  5.0       NaN  NaN  4.996161  5.0       NaN   \n13       4.999478  5.0  4.997608  5.0       NaN  NaN  4.997628  5.0       NaN   \n14       4.999539  5.0  4.998565  5.0       NaN  NaN  4.998534  5.0       NaN   \n15            NaN  NaN  4.999043  5.0       NaN  NaN  4.999094  5.0       NaN   \n16            NaN  NaN       NaN  NaN       NaN  NaN  4.999440  5.0       NaN   \n17            NaN  NaN       NaN  NaN       NaN  NaN  4.999654  5.0       NaN   \n\nMethod:       \nEnds:      r  \n0        5.0  \n1        5.0  \n2        NaN  \n3        NaN  \n4        NaN  \n5        NaN  \n6        NaN  \n7        NaN  \n8        NaN  \n9        NaN  \n10       NaN  \n11       NaN  \n12       NaN  \n13       NaN  \n14       NaN  \n15       NaN  \n16       NaN  \n17       NaN  ",
      "text/html": "<div>\n<style scoped>\n    .dataframe tbody tr th:only-of-type {\n        vertical-align: middle;\n    }\n\n    .dataframe tbody tr th {\n        vertical-align: top;\n    }\n\n    .dataframe thead tr th {\n        text-align: left;\n    }\n</style>\n<table border=\"1\" class=\"dataframe\">\n  <thead>\n    <tr>\n      <th>Method:</th>\n      <th colspan=\"2\" halign=\"left\">dichotomy</th>\n      <th colspan=\"2\" halign=\"left\">fib</th>\n      <th colspan=\"2\" halign=\"left\">brenth</th>\n      <th colspan=\"2\" halign=\"left\">golden</th>\n      <th colspan=\"2\" halign=\"left\">parabolic</th>\n    </tr>\n    <tr>\n      <th>Ends:</th>\n      <th>l</th>\n      <th>r</th>\n      <th>l</th>\n      <th>r</th>\n      <th>l</th>\n      <th>r</th>\n      <th>l</th>\n      <th>r</th>\n      <th>l</th>\n      <th>r</th>\n    </tr>\n  </thead>\n  <tbody>\n    <tr>\n      <th>0</th>\n      <td>3.999800</td>\n      <td>5.0</td>\n      <td>3.763932</td>\n      <td>5.0</td>\n      <td>3.618034</td>\n      <td>5.0</td>\n      <td>3.763932</td>\n      <td>5.0</td>\n      <td>4.000000</td>\n      <td>5.0</td>\n    </tr>\n    <tr>\n      <th>1</th>\n      <td>4.499700</td>\n      <td>5.0</td>\n      <td>4.236068</td>\n      <td>5.0</td>\n      <td>4.000000</td>\n      <td>5.0</td>\n      <td>4.236068</td>\n      <td>5.0</td>\n      <td>9.282305</td>\n      <td>5.0</td>\n    </tr>\n    <tr>\n      <th>2</th>\n      <td>4.749650</td>\n      <td>5.0</td>\n      <td>4.527864</td>\n      <td>5.0</td>\n      <td>4.381966</td>\n      <td>5.0</td>\n      <td>4.527864</td>\n      <td>5.0</td>\n      <td>NaN</td>\n      <td>NaN</td>\n    </tr>\n    <tr>\n      <th>3</th>\n      <td>4.874625</td>\n      <td>5.0</td>\n      <td>4.708204</td>\n      <td>5.0</td>\n      <td>4.759113</td>\n      <td>5.0</td>\n      <td>4.708204</td>\n      <td>5.0</td>\n      <td>NaN</td>\n      <td>NaN</td>\n    </tr>\n    <tr>\n      <th>4</th>\n      <td>4.937112</td>\n      <td>5.0</td>\n      <td>4.819660</td>\n      <td>5.0</td>\n      <td>4.905322</td>\n      <td>5.0</td>\n      <td>4.819660</td>\n      <td>5.0</td>\n      <td>NaN</td>\n      <td>NaN</td>\n    </tr>\n    <tr>\n      <th>5</th>\n      <td>4.968356</td>\n      <td>5.0</td>\n      <td>4.888543</td>\n      <td>5.0</td>\n      <td>4.961168</td>\n      <td>5.0</td>\n      <td>4.888544</td>\n      <td>5.0</td>\n      <td>NaN</td>\n      <td>NaN</td>\n    </tr>\n    <tr>\n      <th>6</th>\n      <td>4.983978</td>\n      <td>5.0</td>\n      <td>4.931117</td>\n      <td>5.0</td>\n      <td>4.982500</td>\n      <td>5.0</td>\n      <td>4.931116</td>\n      <td>5.0</td>\n      <td>NaN</td>\n      <td>NaN</td>\n    </tr>\n    <tr>\n      <th>7</th>\n      <td>4.991789</td>\n      <td>5.0</td>\n      <td>4.957426</td>\n      <td>5.0</td>\n      <td>4.990648</td>\n      <td>5.0</td>\n      <td>4.957428</td>\n      <td>5.0</td>\n      <td>NaN</td>\n      <td>NaN</td>\n    </tr>\n    <tr>\n      <th>8</th>\n      <td>4.995695</td>\n      <td>5.0</td>\n      <td>4.973691</td>\n      <td>5.0</td>\n      <td>4.993760</td>\n      <td>5.0</td>\n      <td>4.973689</td>\n      <td>5.0</td>\n      <td>NaN</td>\n      <td>NaN</td>\n    </tr>\n    <tr>\n      <th>9</th>\n      <td>4.997647</td>\n      <td>5.0</td>\n      <td>4.983736</td>\n      <td>5.0</td>\n      <td>4.995683</td>\n      <td>5.0</td>\n      <td>4.983739</td>\n      <td>5.0</td>\n      <td>NaN</td>\n      <td>NaN</td>\n    </tr>\n    <tr>\n      <th>10</th>\n      <td>4.998624</td>\n      <td>5.0</td>\n      <td>4.989955</td>\n      <td>5.0</td>\n      <td>4.997528</td>\n      <td>5.0</td>\n      <td>4.989950</td>\n      <td>5.0</td>\n      <td>NaN</td>\n      <td>NaN</td>\n    </tr>\n    <tr>\n      <th>11</th>\n      <td>4.999112</td>\n      <td>5.0</td>\n      <td>4.993781</td>\n      <td>5.0</td>\n      <td>4.998668</td>\n      <td>5.0</td>\n      <td>4.993789</td>\n      <td>5.0</td>\n      <td>NaN</td>\n      <td>NaN</td>\n    </tr>\n    <tr>\n      <th>12</th>\n      <td>4.999356</td>\n      <td>5.0</td>\n      <td>4.996173</td>\n      <td>5.0</td>\n      <td>NaN</td>\n      <td>NaN</td>\n      <td>4.996161</td>\n      <td>5.0</td>\n      <td>NaN</td>\n      <td>NaN</td>\n    </tr>\n    <tr>\n      <th>13</th>\n      <td>4.999478</td>\n      <td>5.0</td>\n      <td>4.997608</td>\n      <td>5.0</td>\n      <td>NaN</td>\n      <td>NaN</td>\n      <td>4.997628</td>\n      <td>5.0</td>\n      <td>NaN</td>\n      <td>NaN</td>\n    </tr>\n    <tr>\n      <th>14</th>\n      <td>4.999539</td>\n      <td>5.0</td>\n      <td>4.998565</td>\n      <td>5.0</td>\n      <td>NaN</td>\n      <td>NaN</td>\n      <td>4.998534</td>\n      <td>5.0</td>\n      <td>NaN</td>\n      <td>NaN</td>\n    </tr>\n    <tr>\n      <th>15</th>\n      <td>NaN</td>\n      <td>NaN</td>\n      <td>4.999043</td>\n      <td>5.0</td>\n      <td>NaN</td>\n      <td>NaN</td>\n      <td>4.999094</td>\n      <td>5.0</td>\n      <td>NaN</td>\n      <td>NaN</td>\n    </tr>\n    <tr>\n      <th>16</th>\n      <td>NaN</td>\n      <td>NaN</td>\n      <td>NaN</td>\n      <td>NaN</td>\n      <td>NaN</td>\n      <td>NaN</td>\n      <td>4.999440</td>\n      <td>5.0</td>\n      <td>NaN</td>\n      <td>NaN</td>\n    </tr>\n    <tr>\n      <th>17</th>\n      <td>NaN</td>\n      <td>NaN</td>\n      <td>NaN</td>\n      <td>NaN</td>\n      <td>NaN</td>\n      <td>NaN</td>\n      <td>4.999654</td>\n      <td>5.0</td>\n      <td>NaN</td>\n      <td>NaN</td>\n    </tr>\n  </tbody>\n</table>\n</div>"
     },
     "metadata": {},
     "output_type": "display_data"
    },
    {
     "data": {
      "text/plain": "Method: dichotomy            fib         brenth         golden      parabolic   \nEnds:           l    r         l    r         l    r         l    r         l   \n0        3.999600  5.0  3.763932  5.0  3.618034  5.0  3.763932  5.0  4.000000  \\\n1        4.499400  5.0  4.236068  5.0  4.000000  5.0  4.236068  5.0  9.282305   \n2        4.749300  5.0  4.527864  5.0  4.381966  5.0  4.527864  5.0       NaN   \n3        4.874250  5.0  4.708204  5.0  4.759113  5.0  4.708204  5.0       NaN   \n4        4.936725  5.0  4.819659  5.0  4.905322  5.0  4.819660  5.0       NaN   \n5        4.967962  5.0  4.888545  5.0  4.961168  5.0  4.888544  5.0       NaN   \n6        4.983581  5.0  4.931115  5.0  4.982500  5.0  4.931116  5.0       NaN   \n7        4.991391  5.0  4.957430  5.0  4.990648  5.0  4.957428  5.0       NaN   \n8        4.995295  5.0  4.973684  5.0  4.993760  5.0  4.973689  5.0       NaN   \n9        4.997248  5.0  4.983746  5.0  4.995683  5.0  4.983739  5.0       NaN   \n10       4.998224  5.0  4.989938  5.0  4.997528  5.0  4.989950  5.0       NaN   \n11       4.998712  5.0  4.993808  5.0       NaN  NaN  4.993789  5.0       NaN   \n12       4.998956  5.0  4.996130  5.0       NaN  NaN  4.996161  5.0       NaN   \n13       4.999078  5.0  4.997678  5.0       NaN  NaN  4.997628  5.0       NaN   \n14            NaN  NaN  4.998452  5.0       NaN  NaN  4.998534  5.0       NaN   \n15            NaN  NaN       NaN  NaN       NaN  NaN  4.999094  5.0       NaN   \n\nMethod:       \nEnds:      r  \n0        5.0  \n1        5.0  \n2        NaN  \n3        NaN  \n4        NaN  \n5        NaN  \n6        NaN  \n7        NaN  \n8        NaN  \n9        NaN  \n10       NaN  \n11       NaN  \n12       NaN  \n13       NaN  \n14       NaN  \n15       NaN  ",
      "text/html": "<div>\n<style scoped>\n    .dataframe tbody tr th:only-of-type {\n        vertical-align: middle;\n    }\n\n    .dataframe tbody tr th {\n        vertical-align: top;\n    }\n\n    .dataframe thead tr th {\n        text-align: left;\n    }\n</style>\n<table border=\"1\" class=\"dataframe\">\n  <thead>\n    <tr>\n      <th>Method:</th>\n      <th colspan=\"2\" halign=\"left\">dichotomy</th>\n      <th colspan=\"2\" halign=\"left\">fib</th>\n      <th colspan=\"2\" halign=\"left\">brenth</th>\n      <th colspan=\"2\" halign=\"left\">golden</th>\n      <th colspan=\"2\" halign=\"left\">parabolic</th>\n    </tr>\n    <tr>\n      <th>Ends:</th>\n      <th>l</th>\n      <th>r</th>\n      <th>l</th>\n      <th>r</th>\n      <th>l</th>\n      <th>r</th>\n      <th>l</th>\n      <th>r</th>\n      <th>l</th>\n      <th>r</th>\n    </tr>\n  </thead>\n  <tbody>\n    <tr>\n      <th>0</th>\n      <td>3.999600</td>\n      <td>5.0</td>\n      <td>3.763932</td>\n      <td>5.0</td>\n      <td>3.618034</td>\n      <td>5.0</td>\n      <td>3.763932</td>\n      <td>5.0</td>\n      <td>4.000000</td>\n      <td>5.0</td>\n    </tr>\n    <tr>\n      <th>1</th>\n      <td>4.499400</td>\n      <td>5.0</td>\n      <td>4.236068</td>\n      <td>5.0</td>\n      <td>4.000000</td>\n      <td>5.0</td>\n      <td>4.236068</td>\n      <td>5.0</td>\n      <td>9.282305</td>\n      <td>5.0</td>\n    </tr>\n    <tr>\n      <th>2</th>\n      <td>4.749300</td>\n      <td>5.0</td>\n      <td>4.527864</td>\n      <td>5.0</td>\n      <td>4.381966</td>\n      <td>5.0</td>\n      <td>4.527864</td>\n      <td>5.0</td>\n      <td>NaN</td>\n      <td>NaN</td>\n    </tr>\n    <tr>\n      <th>3</th>\n      <td>4.874250</td>\n      <td>5.0</td>\n      <td>4.708204</td>\n      <td>5.0</td>\n      <td>4.759113</td>\n      <td>5.0</td>\n      <td>4.708204</td>\n      <td>5.0</td>\n      <td>NaN</td>\n      <td>NaN</td>\n    </tr>\n    <tr>\n      <th>4</th>\n      <td>4.936725</td>\n      <td>5.0</td>\n      <td>4.819659</td>\n      <td>5.0</td>\n      <td>4.905322</td>\n      <td>5.0</td>\n      <td>4.819660</td>\n      <td>5.0</td>\n      <td>NaN</td>\n      <td>NaN</td>\n    </tr>\n    <tr>\n      <th>5</th>\n      <td>4.967962</td>\n      <td>5.0</td>\n      <td>4.888545</td>\n      <td>5.0</td>\n      <td>4.961168</td>\n      <td>5.0</td>\n      <td>4.888544</td>\n      <td>5.0</td>\n      <td>NaN</td>\n      <td>NaN</td>\n    </tr>\n    <tr>\n      <th>6</th>\n      <td>4.983581</td>\n      <td>5.0</td>\n      <td>4.931115</td>\n      <td>5.0</td>\n      <td>4.982500</td>\n      <td>5.0</td>\n      <td>4.931116</td>\n      <td>5.0</td>\n      <td>NaN</td>\n      <td>NaN</td>\n    </tr>\n    <tr>\n      <th>7</th>\n      <td>4.991391</td>\n      <td>5.0</td>\n      <td>4.957430</td>\n      <td>5.0</td>\n      <td>4.990648</td>\n      <td>5.0</td>\n      <td>4.957428</td>\n      <td>5.0</td>\n      <td>NaN</td>\n      <td>NaN</td>\n    </tr>\n    <tr>\n      <th>8</th>\n      <td>4.995295</td>\n      <td>5.0</td>\n      <td>4.973684</td>\n      <td>5.0</td>\n      <td>4.993760</td>\n      <td>5.0</td>\n      <td>4.973689</td>\n      <td>5.0</td>\n      <td>NaN</td>\n      <td>NaN</td>\n    </tr>\n    <tr>\n      <th>9</th>\n      <td>4.997248</td>\n      <td>5.0</td>\n      <td>4.983746</td>\n      <td>5.0</td>\n      <td>4.995683</td>\n      <td>5.0</td>\n      <td>4.983739</td>\n      <td>5.0</td>\n      <td>NaN</td>\n      <td>NaN</td>\n    </tr>\n    <tr>\n      <th>10</th>\n      <td>4.998224</td>\n      <td>5.0</td>\n      <td>4.989938</td>\n      <td>5.0</td>\n      <td>4.997528</td>\n      <td>5.0</td>\n      <td>4.989950</td>\n      <td>5.0</td>\n      <td>NaN</td>\n      <td>NaN</td>\n    </tr>\n    <tr>\n      <th>11</th>\n      <td>4.998712</td>\n      <td>5.0</td>\n      <td>4.993808</td>\n      <td>5.0</td>\n      <td>NaN</td>\n      <td>NaN</td>\n      <td>4.993789</td>\n      <td>5.0</td>\n      <td>NaN</td>\n      <td>NaN</td>\n    </tr>\n    <tr>\n      <th>12</th>\n      <td>4.998956</td>\n      <td>5.0</td>\n      <td>4.996130</td>\n      <td>5.0</td>\n      <td>NaN</td>\n      <td>NaN</td>\n      <td>4.996161</td>\n      <td>5.0</td>\n      <td>NaN</td>\n      <td>NaN</td>\n    </tr>\n    <tr>\n      <th>13</th>\n      <td>4.999078</td>\n      <td>5.0</td>\n      <td>4.997678</td>\n      <td>5.0</td>\n      <td>NaN</td>\n      <td>NaN</td>\n      <td>4.997628</td>\n      <td>5.0</td>\n      <td>NaN</td>\n      <td>NaN</td>\n    </tr>\n    <tr>\n      <th>14</th>\n      <td>NaN</td>\n      <td>NaN</td>\n      <td>4.998452</td>\n      <td>5.0</td>\n      <td>NaN</td>\n      <td>NaN</td>\n      <td>4.998534</td>\n      <td>5.0</td>\n      <td>NaN</td>\n      <td>NaN</td>\n    </tr>\n    <tr>\n      <th>15</th>\n      <td>NaN</td>\n      <td>NaN</td>\n      <td>NaN</td>\n      <td>NaN</td>\n      <td>NaN</td>\n      <td>NaN</td>\n      <td>4.999094</td>\n      <td>5.0</td>\n      <td>NaN</td>\n      <td>NaN</td>\n    </tr>\n  </tbody>\n</table>\n</div>"
     },
     "metadata": {},
     "output_type": "display_data"
    },
    {
     "data": {
      "application/vnd.plotly.v1+json": {
       "data": [
        {
         "name": "dichotomy",
         "x": [
          1.0E-4,
          5.0E-4,
          0.001
         ],
         "y": [
          17.0,
          15.0,
          14.0
         ],
         "type": "scatter",
         "xaxis": "x",
         "yaxis": "y"
        },
        {
         "name": "fib",
         "x": [
          1.0E-4,
          5.0E-4,
          0.001
         ],
         "y": [
          20.0,
          16.0,
          15.0
         ],
         "type": "scatter",
         "xaxis": "x2",
         "yaxis": "y2"
        },
        {
         "name": "brenth",
         "x": [
          1.0E-4,
          5.0E-4,
          0.001
         ],
         "y": [
          15.0,
          12.0,
          11.0
         ],
         "type": "scatter",
         "xaxis": "x3",
         "yaxis": "y3"
        },
        {
         "name": "golden",
         "x": [
          1.0E-4,
          5.0E-4,
          0.001
         ],
         "y": [
          21.0,
          18.0,
          16.0
         ],
         "type": "scatter",
         "xaxis": "x4",
         "yaxis": "y4"
        },
        {
         "name": "parabolic",
         "x": [
          1.0E-4,
          5.0E-4,
          0.001
         ],
         "y": [
          2.0,
          2.0,
          2.0
         ],
         "type": "scatter",
         "xaxis": "x5",
         "yaxis": "y5"
        }
       ],
       "layout": {
        "template": {
         "data": {
          "histogram2dcontour": [
           {
            "type": "histogram2dcontour",
            "colorbar": {
             "outlinewidth": 0,
             "ticks": ""
            },
            "colorscale": [
             [
              0.0,
              "#0d0887"
             ],
             [
              0.1111111111111111,
              "#46039f"
             ],
             [
              0.2222222222222222,
              "#7201a8"
             ],
             [
              0.3333333333333333,
              "#9c179e"
             ],
             [
              0.4444444444444444,
              "#bd3786"
             ],
             [
              0.5555555555555556,
              "#d8576b"
             ],
             [
              0.6666666666666666,
              "#ed7953"
             ],
             [
              0.7777777777777778,
              "#fb9f3a"
             ],
             [
              0.8888888888888888,
              "#fdca26"
             ],
             [
              1.0,
              "#f0f921"
             ]
            ]
           }
          ],
          "choropleth": [
           {
            "type": "choropleth",
            "colorbar": {
             "outlinewidth": 0,
             "ticks": ""
            }
           }
          ],
          "histogram2d": [
           {
            "type": "histogram2d",
            "colorbar": {
             "outlinewidth": 0,
             "ticks": ""
            },
            "colorscale": [
             [
              0.0,
              "#0d0887"
             ],
             [
              0.1111111111111111,
              "#46039f"
             ],
             [
              0.2222222222222222,
              "#7201a8"
             ],
             [
              0.3333333333333333,
              "#9c179e"
             ],
             [
              0.4444444444444444,
              "#bd3786"
             ],
             [
              0.5555555555555556,
              "#d8576b"
             ],
             [
              0.6666666666666666,
              "#ed7953"
             ],
             [
              0.7777777777777778,
              "#fb9f3a"
             ],
             [
              0.8888888888888888,
              "#fdca26"
             ],
             [
              1.0,
              "#f0f921"
             ]
            ]
           }
          ],
          "heatmap": [
           {
            "type": "heatmap",
            "colorbar": {
             "outlinewidth": 0,
             "ticks": ""
            },
            "colorscale": [
             [
              0.0,
              "#0d0887"
             ],
             [
              0.1111111111111111,
              "#46039f"
             ],
             [
              0.2222222222222222,
              "#7201a8"
             ],
             [
              0.3333333333333333,
              "#9c179e"
             ],
             [
              0.4444444444444444,
              "#bd3786"
             ],
             [
              0.5555555555555556,
              "#d8576b"
             ],
             [
              0.6666666666666666,
              "#ed7953"
             ],
             [
              0.7777777777777778,
              "#fb9f3a"
             ],
             [
              0.8888888888888888,
              "#fdca26"
             ],
             [
              1.0,
              "#f0f921"
             ]
            ]
           }
          ],
          "heatmapgl": [
           {
            "type": "heatmapgl",
            "colorbar": {
             "outlinewidth": 0,
             "ticks": ""
            },
            "colorscale": [
             [
              0.0,
              "#0d0887"
             ],
             [
              0.1111111111111111,
              "#46039f"
             ],
             [
              0.2222222222222222,
              "#7201a8"
             ],
             [
              0.3333333333333333,
              "#9c179e"
             ],
             [
              0.4444444444444444,
              "#bd3786"
             ],
             [
              0.5555555555555556,
              "#d8576b"
             ],
             [
              0.6666666666666666,
              "#ed7953"
             ],
             [
              0.7777777777777778,
              "#fb9f3a"
             ],
             [
              0.8888888888888888,
              "#fdca26"
             ],
             [
              1.0,
              "#f0f921"
             ]
            ]
           }
          ],
          "contourcarpet": [
           {
            "type": "contourcarpet",
            "colorbar": {
             "outlinewidth": 0,
             "ticks": ""
            }
           }
          ],
          "contour": [
           {
            "type": "contour",
            "colorbar": {
             "outlinewidth": 0,
             "ticks": ""
            },
            "colorscale": [
             [
              0.0,
              "#0d0887"
             ],
             [
              0.1111111111111111,
              "#46039f"
             ],
             [
              0.2222222222222222,
              "#7201a8"
             ],
             [
              0.3333333333333333,
              "#9c179e"
             ],
             [
              0.4444444444444444,
              "#bd3786"
             ],
             [
              0.5555555555555556,
              "#d8576b"
             ],
             [
              0.6666666666666666,
              "#ed7953"
             ],
             [
              0.7777777777777778,
              "#fb9f3a"
             ],
             [
              0.8888888888888888,
              "#fdca26"
             ],
             [
              1.0,
              "#f0f921"
             ]
            ]
           }
          ],
          "surface": [
           {
            "type": "surface",
            "colorbar": {
             "outlinewidth": 0,
             "ticks": ""
            },
            "colorscale": [
             [
              0.0,
              "#0d0887"
             ],
             [
              0.1111111111111111,
              "#46039f"
             ],
             [
              0.2222222222222222,
              "#7201a8"
             ],
             [
              0.3333333333333333,
              "#9c179e"
             ],
             [
              0.4444444444444444,
              "#bd3786"
             ],
             [
              0.5555555555555556,
              "#d8576b"
             ],
             [
              0.6666666666666666,
              "#ed7953"
             ],
             [
              0.7777777777777778,
              "#fb9f3a"
             ],
             [
              0.8888888888888888,
              "#fdca26"
             ],
             [
              1.0,
              "#f0f921"
             ]
            ]
           }
          ],
          "mesh3d": [
           {
            "type": "mesh3d",
            "colorbar": {
             "outlinewidth": 0,
             "ticks": ""
            }
           }
          ],
          "scatter": [
           {
            "marker": {
             "line": {
              "color": "#283442"
             }
            },
            "type": "scatter"
           }
          ],
          "parcoords": [
           {
            "type": "parcoords",
            "line": {
             "colorbar": {
              "outlinewidth": 0,
              "ticks": ""
             }
            }
           }
          ],
          "scatterpolargl": [
           {
            "type": "scatterpolargl",
            "marker": {
             "colorbar": {
              "outlinewidth": 0,
              "ticks": ""
             }
            }
           }
          ],
          "bar": [
           {
            "error_x": {
             "color": "#f2f5fa"
            },
            "error_y": {
             "color": "#f2f5fa"
            },
            "marker": {
             "line": {
              "color": "rgb(17,17,17)",
              "width": 0.5
             },
             "pattern": {
              "fillmode": "overlay",
              "size": 10,
              "solidity": 0.2
             }
            },
            "type": "bar"
           }
          ],
          "scattergeo": [
           {
            "type": "scattergeo",
            "marker": {
             "colorbar": {
              "outlinewidth": 0,
              "ticks": ""
             }
            }
           }
          ],
          "scatterpolar": [
           {
            "type": "scatterpolar",
            "marker": {
             "colorbar": {
              "outlinewidth": 0,
              "ticks": ""
             }
            }
           }
          ],
          "histogram": [
           {
            "marker": {
             "pattern": {
              "fillmode": "overlay",
              "size": 10,
              "solidity": 0.2
             }
            },
            "type": "histogram"
           }
          ],
          "scattergl": [
           {
            "marker": {
             "line": {
              "color": "#283442"
             }
            },
            "type": "scattergl"
           }
          ],
          "scatter3d": [
           {
            "type": "scatter3d",
            "line": {
             "colorbar": {
              "outlinewidth": 0,
              "ticks": ""
             }
            },
            "marker": {
             "colorbar": {
              "outlinewidth": 0,
              "ticks": ""
             }
            }
           }
          ],
          "scattermapbox": [
           {
            "type": "scattermapbox",
            "marker": {
             "colorbar": {
              "outlinewidth": 0,
              "ticks": ""
             }
            }
           }
          ],
          "scatterternary": [
           {
            "type": "scatterternary",
            "marker": {
             "colorbar": {
              "outlinewidth": 0,
              "ticks": ""
             }
            }
           }
          ],
          "scattercarpet": [
           {
            "type": "scattercarpet",
            "marker": {
             "colorbar": {
              "outlinewidth": 0,
              "ticks": ""
             }
            }
           }
          ],
          "carpet": [
           {
            "aaxis": {
             "endlinecolor": "#A2B1C6",
             "gridcolor": "#506784",
             "linecolor": "#506784",
             "minorgridcolor": "#506784",
             "startlinecolor": "#A2B1C6"
            },
            "baxis": {
             "endlinecolor": "#A2B1C6",
             "gridcolor": "#506784",
             "linecolor": "#506784",
             "minorgridcolor": "#506784",
             "startlinecolor": "#A2B1C6"
            },
            "type": "carpet"
           }
          ],
          "table": [
           {
            "cells": {
             "fill": {
              "color": "#506784"
             },
             "line": {
              "color": "rgb(17,17,17)"
             }
            },
            "header": {
             "fill": {
              "color": "#2a3f5f"
             },
             "line": {
              "color": "rgb(17,17,17)"
             }
            },
            "type": "table"
           }
          ],
          "barpolar": [
           {
            "marker": {
             "line": {
              "color": "rgb(17,17,17)",
              "width": 0.5
             },
             "pattern": {
              "fillmode": "overlay",
              "size": 10,
              "solidity": 0.2
             }
            },
            "type": "barpolar"
           }
          ],
          "pie": [
           {
            "automargin": true,
            "type": "pie"
           }
          ]
         },
         "layout": {
          "autotypenumbers": "strict",
          "colorway": [
           "#636efa",
           "#EF553B",
           "#00cc96",
           "#ab63fa",
           "#FFA15A",
           "#19d3f3",
           "#FF6692",
           "#B6E880",
           "#FF97FF",
           "#FECB52"
          ],
          "font": {
           "color": "#f2f5fa"
          },
          "hovermode": "closest",
          "hoverlabel": {
           "align": "left"
          },
          "paper_bgcolor": "rgb(17,17,17)",
          "plot_bgcolor": "rgb(17,17,17)",
          "polar": {
           "bgcolor": "rgb(17,17,17)",
           "angularaxis": {
            "gridcolor": "#506784",
            "linecolor": "#506784",
            "ticks": ""
           },
           "radialaxis": {
            "gridcolor": "#506784",
            "linecolor": "#506784",
            "ticks": ""
           }
          },
          "ternary": {
           "bgcolor": "rgb(17,17,17)",
           "aaxis": {
            "gridcolor": "#506784",
            "linecolor": "#506784",
            "ticks": ""
           },
           "baxis": {
            "gridcolor": "#506784",
            "linecolor": "#506784",
            "ticks": ""
           },
           "caxis": {
            "gridcolor": "#506784",
            "linecolor": "#506784",
            "ticks": ""
           }
          },
          "coloraxis": {
           "colorbar": {
            "outlinewidth": 0,
            "ticks": ""
           }
          },
          "colorscale": {
           "sequential": [
            [
             0.0,
             "#0d0887"
            ],
            [
             0.1111111111111111,
             "#46039f"
            ],
            [
             0.2222222222222222,
             "#7201a8"
            ],
            [
             0.3333333333333333,
             "#9c179e"
            ],
            [
             0.4444444444444444,
             "#bd3786"
            ],
            [
             0.5555555555555556,
             "#d8576b"
            ],
            [
             0.6666666666666666,
             "#ed7953"
            ],
            [
             0.7777777777777778,
             "#fb9f3a"
            ],
            [
             0.8888888888888888,
             "#fdca26"
            ],
            [
             1.0,
             "#f0f921"
            ]
           ],
           "sequentialminus": [
            [
             0.0,
             "#0d0887"
            ],
            [
             0.1111111111111111,
             "#46039f"
            ],
            [
             0.2222222222222222,
             "#7201a8"
            ],
            [
             0.3333333333333333,
             "#9c179e"
            ],
            [
             0.4444444444444444,
             "#bd3786"
            ],
            [
             0.5555555555555556,
             "#d8576b"
            ],
            [
             0.6666666666666666,
             "#ed7953"
            ],
            [
             0.7777777777777778,
             "#fb9f3a"
            ],
            [
             0.8888888888888888,
             "#fdca26"
            ],
            [
             1.0,
             "#f0f921"
            ]
           ],
           "diverging": [
            [
             0,
             "#8e0152"
            ],
            [
             0.1,
             "#c51b7d"
            ],
            [
             0.2,
             "#de77ae"
            ],
            [
             0.3,
             "#f1b6da"
            ],
            [
             0.4,
             "#fde0ef"
            ],
            [
             0.5,
             "#f7f7f7"
            ],
            [
             0.6,
             "#e6f5d0"
            ],
            [
             0.7,
             "#b8e186"
            ],
            [
             0.8,
             "#7fbc41"
            ],
            [
             0.9,
             "#4d9221"
            ],
            [
             1,
             "#276419"
            ]
           ]
          },
          "xaxis": {
           "gridcolor": "#283442",
           "linecolor": "#506784",
           "ticks": "",
           "title": {
            "standoff": 15
           },
           "zerolinecolor": "#283442",
           "automargin": true,
           "zerolinewidth": 2
          },
          "yaxis": {
           "gridcolor": "#283442",
           "linecolor": "#506784",
           "ticks": "",
           "title": {
            "standoff": 15
           },
           "zerolinecolor": "#283442",
           "automargin": true,
           "zerolinewidth": 2
          },
          "scene": {
           "xaxis": {
            "backgroundcolor": "rgb(17,17,17)",
            "gridcolor": "#506784",
            "linecolor": "#506784",
            "showbackground": true,
            "ticks": "",
            "zerolinecolor": "#C8D4E3",
            "gridwidth": 2
           },
           "yaxis": {
            "backgroundcolor": "rgb(17,17,17)",
            "gridcolor": "#506784",
            "linecolor": "#506784",
            "showbackground": true,
            "ticks": "",
            "zerolinecolor": "#C8D4E3",
            "gridwidth": 2
           },
           "zaxis": {
            "backgroundcolor": "rgb(17,17,17)",
            "gridcolor": "#506784",
            "linecolor": "#506784",
            "showbackground": true,
            "ticks": "",
            "zerolinecolor": "#C8D4E3",
            "gridwidth": 2
           }
          },
          "shapedefaults": {
           "line": {
            "color": "#f2f5fa"
           }
          },
          "annotationdefaults": {
           "arrowcolor": "#f2f5fa",
           "arrowhead": 0,
           "arrowwidth": 1
          },
          "geo": {
           "bgcolor": "rgb(17,17,17)",
           "landcolor": "rgb(17,17,17)",
           "subunitcolor": "#506784",
           "showland": true,
           "showlakes": true,
           "lakecolor": "rgb(17,17,17)"
          },
          "title": {
           "x": 0.05
          },
          "updatemenudefaults": {
           "bgcolor": "#506784",
           "borderwidth": 0
          },
          "sliderdefaults": {
           "bgcolor": "#C8D4E3",
           "borderwidth": 1,
           "bordercolor": "rgb(17,17,17)",
           "tickwidth": 0
          },
          "mapbox": {
           "style": "dark"
          }
         }
        },
        "xaxis": {
         "anchor": "y",
         "domain": [
          0.0,
          0.16799999999999998
         ]
        },
        "yaxis": {
         "anchor": "x",
         "domain": [
          0.0,
          1.0
         ]
        },
        "xaxis2": {
         "anchor": "y2",
         "domain": [
          0.208,
          0.376
         ]
        },
        "yaxis2": {
         "anchor": "x2",
         "domain": [
          0.0,
          1.0
         ],
         "matches": "y",
         "showticklabels": false
        },
        "xaxis3": {
         "anchor": "y3",
         "domain": [
          0.416,
          0.584
         ]
        },
        "yaxis3": {
         "anchor": "x3",
         "domain": [
          0.0,
          1.0
         ],
         "matches": "y",
         "showticklabels": false
        },
        "xaxis4": {
         "anchor": "y4",
         "domain": [
          0.624,
          0.792
         ]
        },
        "yaxis4": {
         "anchor": "x4",
         "domain": [
          0.0,
          1.0
         ],
         "matches": "y",
         "showticklabels": false
        },
        "xaxis5": {
         "anchor": "y5",
         "domain": [
          0.832,
          1.0
         ]
        },
        "yaxis5": {
         "anchor": "x5",
         "domain": [
          0.0,
          1.0
         ],
         "matches": "y",
         "showticklabels": false
        },
        "annotations": [
         {
          "font": {
           "size": 16
          },
          "showarrow": false,
          "text": "Точность",
          "x": 0.5,
          "xanchor": "center",
          "xref": "paper",
          "y": 0,
          "yanchor": "top",
          "yref": "paper",
          "yshift": -30
         },
         {
          "font": {
           "size": 16
          },
          "showarrow": false,
          "text": "Количество итераций",
          "textangle": -90,
          "x": 0,
          "xanchor": "right",
          "xref": "paper",
          "xshift": -40,
          "y": 0.5,
          "yanchor": "middle",
          "yref": "paper"
         }
        ],
        "title": {
         "text": "Количество итераций в зависимости от точности"
        }
       },
       "config": {
        "plotlyServerURL": "https://plot.ly"
       }
      },
      "text/html": "<div>                            <div id=\"14c0fff9-1781-46f3-ad3d-e4fc933da924\" class=\"plotly-graph-div\" style=\"height:525px; width:100%;\"></div>            <script type=\"text/javascript\">                require([\"plotly\"], function(Plotly) {                    window.PLOTLYENV=window.PLOTLYENV || {};                                    if (document.getElementById(\"14c0fff9-1781-46f3-ad3d-e4fc933da924\")) {                    Plotly.newPlot(                        \"14c0fff9-1781-46f3-ad3d-e4fc933da924\",                        [{\"name\":\"dichotomy\",\"x\":[0.0001,0.0005,0.001],\"y\":[17.0,15.0,14.0],\"type\":\"scatter\",\"xaxis\":\"x\",\"yaxis\":\"y\"},{\"name\":\"fib\",\"x\":[0.0001,0.0005,0.001],\"y\":[20.0,16.0,15.0],\"type\":\"scatter\",\"xaxis\":\"x2\",\"yaxis\":\"y2\"},{\"name\":\"brenth\",\"x\":[0.0001,0.0005,0.001],\"y\":[15.0,12.0,11.0],\"type\":\"scatter\",\"xaxis\":\"x3\",\"yaxis\":\"y3\"},{\"name\":\"golden\",\"x\":[0.0001,0.0005,0.001],\"y\":[21.0,18.0,16.0],\"type\":\"scatter\",\"xaxis\":\"x4\",\"yaxis\":\"y4\"},{\"name\":\"parabolic\",\"x\":[0.0001,0.0005,0.001],\"y\":[2.0,2.0,2.0],\"type\":\"scatter\",\"xaxis\":\"x5\",\"yaxis\":\"y5\"}],                        {\"template\":{\"data\":{\"histogram2dcontour\":[{\"type\":\"histogram2dcontour\",\"colorbar\":{\"outlinewidth\":0,\"ticks\":\"\"},\"colorscale\":[[0.0,\"#0d0887\"],[0.1111111111111111,\"#46039f\"],[0.2222222222222222,\"#7201a8\"],[0.3333333333333333,\"#9c179e\"],[0.4444444444444444,\"#bd3786\"],[0.5555555555555556,\"#d8576b\"],[0.6666666666666666,\"#ed7953\"],[0.7777777777777778,\"#fb9f3a\"],[0.8888888888888888,\"#fdca26\"],[1.0,\"#f0f921\"]]}],\"choropleth\":[{\"type\":\"choropleth\",\"colorbar\":{\"outlinewidth\":0,\"ticks\":\"\"}}],\"histogram2d\":[{\"type\":\"histogram2d\",\"colorbar\":{\"outlinewidth\":0,\"ticks\":\"\"},\"colorscale\":[[0.0,\"#0d0887\"],[0.1111111111111111,\"#46039f\"],[0.2222222222222222,\"#7201a8\"],[0.3333333333333333,\"#9c179e\"],[0.4444444444444444,\"#bd3786\"],[0.5555555555555556,\"#d8576b\"],[0.6666666666666666,\"#ed7953\"],[0.7777777777777778,\"#fb9f3a\"],[0.8888888888888888,\"#fdca26\"],[1.0,\"#f0f921\"]]}],\"heatmap\":[{\"type\":\"heatmap\",\"colorbar\":{\"outlinewidth\":0,\"ticks\":\"\"},\"colorscale\":[[0.0,\"#0d0887\"],[0.1111111111111111,\"#46039f\"],[0.2222222222222222,\"#7201a8\"],[0.3333333333333333,\"#9c179e\"],[0.4444444444444444,\"#bd3786\"],[0.5555555555555556,\"#d8576b\"],[0.6666666666666666,\"#ed7953\"],[0.7777777777777778,\"#fb9f3a\"],[0.8888888888888888,\"#fdca26\"],[1.0,\"#f0f921\"]]}],\"heatmapgl\":[{\"type\":\"heatmapgl\",\"colorbar\":{\"outlinewidth\":0,\"ticks\":\"\"},\"colorscale\":[[0.0,\"#0d0887\"],[0.1111111111111111,\"#46039f\"],[0.2222222222222222,\"#7201a8\"],[0.3333333333333333,\"#9c179e\"],[0.4444444444444444,\"#bd3786\"],[0.5555555555555556,\"#d8576b\"],[0.6666666666666666,\"#ed7953\"],[0.7777777777777778,\"#fb9f3a\"],[0.8888888888888888,\"#fdca26\"],[1.0,\"#f0f921\"]]}],\"contourcarpet\":[{\"type\":\"contourcarpet\",\"colorbar\":{\"outlinewidth\":0,\"ticks\":\"\"}}],\"contour\":[{\"type\":\"contour\",\"colorbar\":{\"outlinewidth\":0,\"ticks\":\"\"},\"colorscale\":[[0.0,\"#0d0887\"],[0.1111111111111111,\"#46039f\"],[0.2222222222222222,\"#7201a8\"],[0.3333333333333333,\"#9c179e\"],[0.4444444444444444,\"#bd3786\"],[0.5555555555555556,\"#d8576b\"],[0.6666666666666666,\"#ed7953\"],[0.7777777777777778,\"#fb9f3a\"],[0.8888888888888888,\"#fdca26\"],[1.0,\"#f0f921\"]]}],\"surface\":[{\"type\":\"surface\",\"colorbar\":{\"outlinewidth\":0,\"ticks\":\"\"},\"colorscale\":[[0.0,\"#0d0887\"],[0.1111111111111111,\"#46039f\"],[0.2222222222222222,\"#7201a8\"],[0.3333333333333333,\"#9c179e\"],[0.4444444444444444,\"#bd3786\"],[0.5555555555555556,\"#d8576b\"],[0.6666666666666666,\"#ed7953\"],[0.7777777777777778,\"#fb9f3a\"],[0.8888888888888888,\"#fdca26\"],[1.0,\"#f0f921\"]]}],\"mesh3d\":[{\"type\":\"mesh3d\",\"colorbar\":{\"outlinewidth\":0,\"ticks\":\"\"}}],\"scatter\":[{\"marker\":{\"line\":{\"color\":\"#283442\"}},\"type\":\"scatter\"}],\"parcoords\":[{\"type\":\"parcoords\",\"line\":{\"colorbar\":{\"outlinewidth\":0,\"ticks\":\"\"}}}],\"scatterpolargl\":[{\"type\":\"scatterpolargl\",\"marker\":{\"colorbar\":{\"outlinewidth\":0,\"ticks\":\"\"}}}],\"bar\":[{\"error_x\":{\"color\":\"#f2f5fa\"},\"error_y\":{\"color\":\"#f2f5fa\"},\"marker\":{\"line\":{\"color\":\"rgb(17,17,17)\",\"width\":0.5},\"pattern\":{\"fillmode\":\"overlay\",\"size\":10,\"solidity\":0.2}},\"type\":\"bar\"}],\"scattergeo\":[{\"type\":\"scattergeo\",\"marker\":{\"colorbar\":{\"outlinewidth\":0,\"ticks\":\"\"}}}],\"scatterpolar\":[{\"type\":\"scatterpolar\",\"marker\":{\"colorbar\":{\"outlinewidth\":0,\"ticks\":\"\"}}}],\"histogram\":[{\"marker\":{\"pattern\":{\"fillmode\":\"overlay\",\"size\":10,\"solidity\":0.2}},\"type\":\"histogram\"}],\"scattergl\":[{\"marker\":{\"line\":{\"color\":\"#283442\"}},\"type\":\"scattergl\"}],\"scatter3d\":[{\"type\":\"scatter3d\",\"line\":{\"colorbar\":{\"outlinewidth\":0,\"ticks\":\"\"}},\"marker\":{\"colorbar\":{\"outlinewidth\":0,\"ticks\":\"\"}}}],\"scattermapbox\":[{\"type\":\"scattermapbox\",\"marker\":{\"colorbar\":{\"outlinewidth\":0,\"ticks\":\"\"}}}],\"scatterternary\":[{\"type\":\"scatterternary\",\"marker\":{\"colorbar\":{\"outlinewidth\":0,\"ticks\":\"\"}}}],\"scattercarpet\":[{\"type\":\"scattercarpet\",\"marker\":{\"colorbar\":{\"outlinewidth\":0,\"ticks\":\"\"}}}],\"carpet\":[{\"aaxis\":{\"endlinecolor\":\"#A2B1C6\",\"gridcolor\":\"#506784\",\"linecolor\":\"#506784\",\"minorgridcolor\":\"#506784\",\"startlinecolor\":\"#A2B1C6\"},\"baxis\":{\"endlinecolor\":\"#A2B1C6\",\"gridcolor\":\"#506784\",\"linecolor\":\"#506784\",\"minorgridcolor\":\"#506784\",\"startlinecolor\":\"#A2B1C6\"},\"type\":\"carpet\"}],\"table\":[{\"cells\":{\"fill\":{\"color\":\"#506784\"},\"line\":{\"color\":\"rgb(17,17,17)\"}},\"header\":{\"fill\":{\"color\":\"#2a3f5f\"},\"line\":{\"color\":\"rgb(17,17,17)\"}},\"type\":\"table\"}],\"barpolar\":[{\"marker\":{\"line\":{\"color\":\"rgb(17,17,17)\",\"width\":0.5},\"pattern\":{\"fillmode\":\"overlay\",\"size\":10,\"solidity\":0.2}},\"type\":\"barpolar\"}],\"pie\":[{\"automargin\":true,\"type\":\"pie\"}]},\"layout\":{\"autotypenumbers\":\"strict\",\"colorway\":[\"#636efa\",\"#EF553B\",\"#00cc96\",\"#ab63fa\",\"#FFA15A\",\"#19d3f3\",\"#FF6692\",\"#B6E880\",\"#FF97FF\",\"#FECB52\"],\"font\":{\"color\":\"#f2f5fa\"},\"hovermode\":\"closest\",\"hoverlabel\":{\"align\":\"left\"},\"paper_bgcolor\":\"rgb(17,17,17)\",\"plot_bgcolor\":\"rgb(17,17,17)\",\"polar\":{\"bgcolor\":\"rgb(17,17,17)\",\"angularaxis\":{\"gridcolor\":\"#506784\",\"linecolor\":\"#506784\",\"ticks\":\"\"},\"radialaxis\":{\"gridcolor\":\"#506784\",\"linecolor\":\"#506784\",\"ticks\":\"\"}},\"ternary\":{\"bgcolor\":\"rgb(17,17,17)\",\"aaxis\":{\"gridcolor\":\"#506784\",\"linecolor\":\"#506784\",\"ticks\":\"\"},\"baxis\":{\"gridcolor\":\"#506784\",\"linecolor\":\"#506784\",\"ticks\":\"\"},\"caxis\":{\"gridcolor\":\"#506784\",\"linecolor\":\"#506784\",\"ticks\":\"\"}},\"coloraxis\":{\"colorbar\":{\"outlinewidth\":0,\"ticks\":\"\"}},\"colorscale\":{\"sequential\":[[0.0,\"#0d0887\"],[0.1111111111111111,\"#46039f\"],[0.2222222222222222,\"#7201a8\"],[0.3333333333333333,\"#9c179e\"],[0.4444444444444444,\"#bd3786\"],[0.5555555555555556,\"#d8576b\"],[0.6666666666666666,\"#ed7953\"],[0.7777777777777778,\"#fb9f3a\"],[0.8888888888888888,\"#fdca26\"],[1.0,\"#f0f921\"]],\"sequentialminus\":[[0.0,\"#0d0887\"],[0.1111111111111111,\"#46039f\"],[0.2222222222222222,\"#7201a8\"],[0.3333333333333333,\"#9c179e\"],[0.4444444444444444,\"#bd3786\"],[0.5555555555555556,\"#d8576b\"],[0.6666666666666666,\"#ed7953\"],[0.7777777777777778,\"#fb9f3a\"],[0.8888888888888888,\"#fdca26\"],[1.0,\"#f0f921\"]],\"diverging\":[[0,\"#8e0152\"],[0.1,\"#c51b7d\"],[0.2,\"#de77ae\"],[0.3,\"#f1b6da\"],[0.4,\"#fde0ef\"],[0.5,\"#f7f7f7\"],[0.6,\"#e6f5d0\"],[0.7,\"#b8e186\"],[0.8,\"#7fbc41\"],[0.9,\"#4d9221\"],[1,\"#276419\"]]},\"xaxis\":{\"gridcolor\":\"#283442\",\"linecolor\":\"#506784\",\"ticks\":\"\",\"title\":{\"standoff\":15},\"zerolinecolor\":\"#283442\",\"automargin\":true,\"zerolinewidth\":2},\"yaxis\":{\"gridcolor\":\"#283442\",\"linecolor\":\"#506784\",\"ticks\":\"\",\"title\":{\"standoff\":15},\"zerolinecolor\":\"#283442\",\"automargin\":true,\"zerolinewidth\":2},\"scene\":{\"xaxis\":{\"backgroundcolor\":\"rgb(17,17,17)\",\"gridcolor\":\"#506784\",\"linecolor\":\"#506784\",\"showbackground\":true,\"ticks\":\"\",\"zerolinecolor\":\"#C8D4E3\",\"gridwidth\":2},\"yaxis\":{\"backgroundcolor\":\"rgb(17,17,17)\",\"gridcolor\":\"#506784\",\"linecolor\":\"#506784\",\"showbackground\":true,\"ticks\":\"\",\"zerolinecolor\":\"#C8D4E3\",\"gridwidth\":2},\"zaxis\":{\"backgroundcolor\":\"rgb(17,17,17)\",\"gridcolor\":\"#506784\",\"linecolor\":\"#506784\",\"showbackground\":true,\"ticks\":\"\",\"zerolinecolor\":\"#C8D4E3\",\"gridwidth\":2}},\"shapedefaults\":{\"line\":{\"color\":\"#f2f5fa\"}},\"annotationdefaults\":{\"arrowcolor\":\"#f2f5fa\",\"arrowhead\":0,\"arrowwidth\":1},\"geo\":{\"bgcolor\":\"rgb(17,17,17)\",\"landcolor\":\"rgb(17,17,17)\",\"subunitcolor\":\"#506784\",\"showland\":true,\"showlakes\":true,\"lakecolor\":\"rgb(17,17,17)\"},\"title\":{\"x\":0.05},\"updatemenudefaults\":{\"bgcolor\":\"#506784\",\"borderwidth\":0},\"sliderdefaults\":{\"bgcolor\":\"#C8D4E3\",\"borderwidth\":1,\"bordercolor\":\"rgb(17,17,17)\",\"tickwidth\":0},\"mapbox\":{\"style\":\"dark\"}}},\"xaxis\":{\"anchor\":\"y\",\"domain\":[0.0,0.16799999999999998]},\"yaxis\":{\"anchor\":\"x\",\"domain\":[0.0,1.0]},\"xaxis2\":{\"anchor\":\"y2\",\"domain\":[0.208,0.376]},\"yaxis2\":{\"anchor\":\"x2\",\"domain\":[0.0,1.0],\"matches\":\"y\",\"showticklabels\":false},\"xaxis3\":{\"anchor\":\"y3\",\"domain\":[0.416,0.584]},\"yaxis3\":{\"anchor\":\"x3\",\"domain\":[0.0,1.0],\"matches\":\"y\",\"showticklabels\":false},\"xaxis4\":{\"anchor\":\"y4\",\"domain\":[0.624,0.792]},\"yaxis4\":{\"anchor\":\"x4\",\"domain\":[0.0,1.0],\"matches\":\"y\",\"showticklabels\":false},\"xaxis5\":{\"anchor\":\"y5\",\"domain\":[0.832,1.0]},\"yaxis5\":{\"anchor\":\"x5\",\"domain\":[0.0,1.0],\"matches\":\"y\",\"showticklabels\":false},\"annotations\":[{\"font\":{\"size\":16},\"showarrow\":false,\"text\":\"\\u0422\\u043e\\u0447\\u043d\\u043e\\u0441\\u0442\\u044c\",\"x\":0.5,\"xanchor\":\"center\",\"xref\":\"paper\",\"y\":0,\"yanchor\":\"top\",\"yref\":\"paper\",\"yshift\":-30},{\"font\":{\"size\":16},\"showarrow\":false,\"text\":\"\\u041a\\u043e\\u043b\\u0438\\u0447\\u0435\\u0441\\u0442\\u0432\\u043e \\u0438\\u0442\\u0435\\u0440\\u0430\\u0446\\u0438\\u0439\",\"textangle\":-90,\"x\":0,\"xanchor\":\"right\",\"xref\":\"paper\",\"xshift\":-40,\"y\":0.5,\"yanchor\":\"middle\",\"yref\":\"paper\"}],\"title\":{\"text\":\"\\u041a\\u043e\\u043b\\u0438\\u0447\\u0435\\u0441\\u0442\\u0432\\u043e \\u0438\\u0442\\u0435\\u0440\\u0430\\u0446\\u0438\\u0439 \\u0432 \\u0437\\u0430\\u0432\\u0438\\u0441\\u0438\\u043c\\u043e\\u0441\\u0442\\u0438 \\u043e\\u0442 \\u0442\\u043e\\u0447\\u043d\\u043e\\u0441\\u0442\\u0438\"}},                        {\"responsive\": true}                    ).then(function(){\n                            \nvar gd = document.getElementById('14c0fff9-1781-46f3-ad3d-e4fc933da924');\nvar x = new MutationObserver(function (mutations, observer) {{\n        var display = window.getComputedStyle(gd).display;\n        if (!display || display === 'none') {{\n            console.log([gd, 'removed!']);\n            Plotly.purge(gd);\n            observer.disconnect();\n        }}\n}});\n\n// Listen for the removal of the full notebook cells\nvar notebookContainer = gd.closest('#notebook-container');\nif (notebookContainer) {{\n    x.observe(notebookContainer, {childList: true});\n}}\n\n// Listen for the clearing of the current output cell\nvar outputEl = gd.closest('.output');\nif (outputEl) {{\n    x.observe(outputEl, {childList: true});\n}}\n\n                        })                };                });            </script>        </div>"
     },
     "metadata": {},
     "output_type": "display_data"
    },
    {
     "data": {
      "application/vnd.plotly.v1+json": {
       "data": [
        {
         "name": "dichotomy",
         "x": [
          1.0E-4,
          5.0E-4,
          0.001
         ],
         "y": [
          34.0,
          30.0,
          28.0
         ],
         "type": "scatter",
         "xaxis": "x",
         "yaxis": "y"
        },
        {
         "name": "fib",
         "x": [
          1.0E-4,
          5.0E-4,
          0.001
         ],
         "y": [
          22.0,
          18.0,
          17.0
         ],
         "type": "scatter",
         "xaxis": "x2",
         "yaxis": "y2"
        },
        {
         "name": "brenth",
         "x": [
          1.0E-4,
          5.0E-4,
          0.001
         ],
         "y": [
          16.0,
          13.0,
          12.0
         ],
         "type": "scatter",
         "xaxis": "x3",
         "yaxis": "y3"
        },
        {
         "name": "golden",
         "x": [
          1.0E-4,
          5.0E-4,
          0.001
         ],
         "y": [
          23.0,
          20.0,
          18.0
         ],
         "type": "scatter",
         "xaxis": "x4",
         "yaxis": "y4"
        },
        {
         "name": "parabolic",
         "x": [
          1.0E-4,
          5.0E-4,
          0.001
         ],
         "y": [
          5.0,
          5.0,
          5.0
         ],
         "type": "scatter",
         "xaxis": "x5",
         "yaxis": "y5"
        }
       ],
       "layout": {
        "template": {
         "data": {
          "histogram2dcontour": [
           {
            "type": "histogram2dcontour",
            "colorbar": {
             "outlinewidth": 0,
             "ticks": ""
            },
            "colorscale": [
             [
              0.0,
              "#0d0887"
             ],
             [
              0.1111111111111111,
              "#46039f"
             ],
             [
              0.2222222222222222,
              "#7201a8"
             ],
             [
              0.3333333333333333,
              "#9c179e"
             ],
             [
              0.4444444444444444,
              "#bd3786"
             ],
             [
              0.5555555555555556,
              "#d8576b"
             ],
             [
              0.6666666666666666,
              "#ed7953"
             ],
             [
              0.7777777777777778,
              "#fb9f3a"
             ],
             [
              0.8888888888888888,
              "#fdca26"
             ],
             [
              1.0,
              "#f0f921"
             ]
            ]
           }
          ],
          "choropleth": [
           {
            "type": "choropleth",
            "colorbar": {
             "outlinewidth": 0,
             "ticks": ""
            }
           }
          ],
          "histogram2d": [
           {
            "type": "histogram2d",
            "colorbar": {
             "outlinewidth": 0,
             "ticks": ""
            },
            "colorscale": [
             [
              0.0,
              "#0d0887"
             ],
             [
              0.1111111111111111,
              "#46039f"
             ],
             [
              0.2222222222222222,
              "#7201a8"
             ],
             [
              0.3333333333333333,
              "#9c179e"
             ],
             [
              0.4444444444444444,
              "#bd3786"
             ],
             [
              0.5555555555555556,
              "#d8576b"
             ],
             [
              0.6666666666666666,
              "#ed7953"
             ],
             [
              0.7777777777777778,
              "#fb9f3a"
             ],
             [
              0.8888888888888888,
              "#fdca26"
             ],
             [
              1.0,
              "#f0f921"
             ]
            ]
           }
          ],
          "heatmap": [
           {
            "type": "heatmap",
            "colorbar": {
             "outlinewidth": 0,
             "ticks": ""
            },
            "colorscale": [
             [
              0.0,
              "#0d0887"
             ],
             [
              0.1111111111111111,
              "#46039f"
             ],
             [
              0.2222222222222222,
              "#7201a8"
             ],
             [
              0.3333333333333333,
              "#9c179e"
             ],
             [
              0.4444444444444444,
              "#bd3786"
             ],
             [
              0.5555555555555556,
              "#d8576b"
             ],
             [
              0.6666666666666666,
              "#ed7953"
             ],
             [
              0.7777777777777778,
              "#fb9f3a"
             ],
             [
              0.8888888888888888,
              "#fdca26"
             ],
             [
              1.0,
              "#f0f921"
             ]
            ]
           }
          ],
          "heatmapgl": [
           {
            "type": "heatmapgl",
            "colorbar": {
             "outlinewidth": 0,
             "ticks": ""
            },
            "colorscale": [
             [
              0.0,
              "#0d0887"
             ],
             [
              0.1111111111111111,
              "#46039f"
             ],
             [
              0.2222222222222222,
              "#7201a8"
             ],
             [
              0.3333333333333333,
              "#9c179e"
             ],
             [
              0.4444444444444444,
              "#bd3786"
             ],
             [
              0.5555555555555556,
              "#d8576b"
             ],
             [
              0.6666666666666666,
              "#ed7953"
             ],
             [
              0.7777777777777778,
              "#fb9f3a"
             ],
             [
              0.8888888888888888,
              "#fdca26"
             ],
             [
              1.0,
              "#f0f921"
             ]
            ]
           }
          ],
          "contourcarpet": [
           {
            "type": "contourcarpet",
            "colorbar": {
             "outlinewidth": 0,
             "ticks": ""
            }
           }
          ],
          "contour": [
           {
            "type": "contour",
            "colorbar": {
             "outlinewidth": 0,
             "ticks": ""
            },
            "colorscale": [
             [
              0.0,
              "#0d0887"
             ],
             [
              0.1111111111111111,
              "#46039f"
             ],
             [
              0.2222222222222222,
              "#7201a8"
             ],
             [
              0.3333333333333333,
              "#9c179e"
             ],
             [
              0.4444444444444444,
              "#bd3786"
             ],
             [
              0.5555555555555556,
              "#d8576b"
             ],
             [
              0.6666666666666666,
              "#ed7953"
             ],
             [
              0.7777777777777778,
              "#fb9f3a"
             ],
             [
              0.8888888888888888,
              "#fdca26"
             ],
             [
              1.0,
              "#f0f921"
             ]
            ]
           }
          ],
          "surface": [
           {
            "type": "surface",
            "colorbar": {
             "outlinewidth": 0,
             "ticks": ""
            },
            "colorscale": [
             [
              0.0,
              "#0d0887"
             ],
             [
              0.1111111111111111,
              "#46039f"
             ],
             [
              0.2222222222222222,
              "#7201a8"
             ],
             [
              0.3333333333333333,
              "#9c179e"
             ],
             [
              0.4444444444444444,
              "#bd3786"
             ],
             [
              0.5555555555555556,
              "#d8576b"
             ],
             [
              0.6666666666666666,
              "#ed7953"
             ],
             [
              0.7777777777777778,
              "#fb9f3a"
             ],
             [
              0.8888888888888888,
              "#fdca26"
             ],
             [
              1.0,
              "#f0f921"
             ]
            ]
           }
          ],
          "mesh3d": [
           {
            "type": "mesh3d",
            "colorbar": {
             "outlinewidth": 0,
             "ticks": ""
            }
           }
          ],
          "scatter": [
           {
            "marker": {
             "line": {
              "color": "#283442"
             }
            },
            "type": "scatter"
           }
          ],
          "parcoords": [
           {
            "type": "parcoords",
            "line": {
             "colorbar": {
              "outlinewidth": 0,
              "ticks": ""
             }
            }
           }
          ],
          "scatterpolargl": [
           {
            "type": "scatterpolargl",
            "marker": {
             "colorbar": {
              "outlinewidth": 0,
              "ticks": ""
             }
            }
           }
          ],
          "bar": [
           {
            "error_x": {
             "color": "#f2f5fa"
            },
            "error_y": {
             "color": "#f2f5fa"
            },
            "marker": {
             "line": {
              "color": "rgb(17,17,17)",
              "width": 0.5
             },
             "pattern": {
              "fillmode": "overlay",
              "size": 10,
              "solidity": 0.2
             }
            },
            "type": "bar"
           }
          ],
          "scattergeo": [
           {
            "type": "scattergeo",
            "marker": {
             "colorbar": {
              "outlinewidth": 0,
              "ticks": ""
             }
            }
           }
          ],
          "scatterpolar": [
           {
            "type": "scatterpolar",
            "marker": {
             "colorbar": {
              "outlinewidth": 0,
              "ticks": ""
             }
            }
           }
          ],
          "histogram": [
           {
            "marker": {
             "pattern": {
              "fillmode": "overlay",
              "size": 10,
              "solidity": 0.2
             }
            },
            "type": "histogram"
           }
          ],
          "scattergl": [
           {
            "marker": {
             "line": {
              "color": "#283442"
             }
            },
            "type": "scattergl"
           }
          ],
          "scatter3d": [
           {
            "type": "scatter3d",
            "line": {
             "colorbar": {
              "outlinewidth": 0,
              "ticks": ""
             }
            },
            "marker": {
             "colorbar": {
              "outlinewidth": 0,
              "ticks": ""
             }
            }
           }
          ],
          "scattermapbox": [
           {
            "type": "scattermapbox",
            "marker": {
             "colorbar": {
              "outlinewidth": 0,
              "ticks": ""
             }
            }
           }
          ],
          "scatterternary": [
           {
            "type": "scatterternary",
            "marker": {
             "colorbar": {
              "outlinewidth": 0,
              "ticks": ""
             }
            }
           }
          ],
          "scattercarpet": [
           {
            "type": "scattercarpet",
            "marker": {
             "colorbar": {
              "outlinewidth": 0,
              "ticks": ""
             }
            }
           }
          ],
          "carpet": [
           {
            "aaxis": {
             "endlinecolor": "#A2B1C6",
             "gridcolor": "#506784",
             "linecolor": "#506784",
             "minorgridcolor": "#506784",
             "startlinecolor": "#A2B1C6"
            },
            "baxis": {
             "endlinecolor": "#A2B1C6",
             "gridcolor": "#506784",
             "linecolor": "#506784",
             "minorgridcolor": "#506784",
             "startlinecolor": "#A2B1C6"
            },
            "type": "carpet"
           }
          ],
          "table": [
           {
            "cells": {
             "fill": {
              "color": "#506784"
             },
             "line": {
              "color": "rgb(17,17,17)"
             }
            },
            "header": {
             "fill": {
              "color": "#2a3f5f"
             },
             "line": {
              "color": "rgb(17,17,17)"
             }
            },
            "type": "table"
           }
          ],
          "barpolar": [
           {
            "marker": {
             "line": {
              "color": "rgb(17,17,17)",
              "width": 0.5
             },
             "pattern": {
              "fillmode": "overlay",
              "size": 10,
              "solidity": 0.2
             }
            },
            "type": "barpolar"
           }
          ],
          "pie": [
           {
            "automargin": true,
            "type": "pie"
           }
          ]
         },
         "layout": {
          "autotypenumbers": "strict",
          "colorway": [
           "#636efa",
           "#EF553B",
           "#00cc96",
           "#ab63fa",
           "#FFA15A",
           "#19d3f3",
           "#FF6692",
           "#B6E880",
           "#FF97FF",
           "#FECB52"
          ],
          "font": {
           "color": "#f2f5fa"
          },
          "hovermode": "closest",
          "hoverlabel": {
           "align": "left"
          },
          "paper_bgcolor": "rgb(17,17,17)",
          "plot_bgcolor": "rgb(17,17,17)",
          "polar": {
           "bgcolor": "rgb(17,17,17)",
           "angularaxis": {
            "gridcolor": "#506784",
            "linecolor": "#506784",
            "ticks": ""
           },
           "radialaxis": {
            "gridcolor": "#506784",
            "linecolor": "#506784",
            "ticks": ""
           }
          },
          "ternary": {
           "bgcolor": "rgb(17,17,17)",
           "aaxis": {
            "gridcolor": "#506784",
            "linecolor": "#506784",
            "ticks": ""
           },
           "baxis": {
            "gridcolor": "#506784",
            "linecolor": "#506784",
            "ticks": ""
           },
           "caxis": {
            "gridcolor": "#506784",
            "linecolor": "#506784",
            "ticks": ""
           }
          },
          "coloraxis": {
           "colorbar": {
            "outlinewidth": 0,
            "ticks": ""
           }
          },
          "colorscale": {
           "sequential": [
            [
             0.0,
             "#0d0887"
            ],
            [
             0.1111111111111111,
             "#46039f"
            ],
            [
             0.2222222222222222,
             "#7201a8"
            ],
            [
             0.3333333333333333,
             "#9c179e"
            ],
            [
             0.4444444444444444,
             "#bd3786"
            ],
            [
             0.5555555555555556,
             "#d8576b"
            ],
            [
             0.6666666666666666,
             "#ed7953"
            ],
            [
             0.7777777777777778,
             "#fb9f3a"
            ],
            [
             0.8888888888888888,
             "#fdca26"
            ],
            [
             1.0,
             "#f0f921"
            ]
           ],
           "sequentialminus": [
            [
             0.0,
             "#0d0887"
            ],
            [
             0.1111111111111111,
             "#46039f"
            ],
            [
             0.2222222222222222,
             "#7201a8"
            ],
            [
             0.3333333333333333,
             "#9c179e"
            ],
            [
             0.4444444444444444,
             "#bd3786"
            ],
            [
             0.5555555555555556,
             "#d8576b"
            ],
            [
             0.6666666666666666,
             "#ed7953"
            ],
            [
             0.7777777777777778,
             "#fb9f3a"
            ],
            [
             0.8888888888888888,
             "#fdca26"
            ],
            [
             1.0,
             "#f0f921"
            ]
           ],
           "diverging": [
            [
             0,
             "#8e0152"
            ],
            [
             0.1,
             "#c51b7d"
            ],
            [
             0.2,
             "#de77ae"
            ],
            [
             0.3,
             "#f1b6da"
            ],
            [
             0.4,
             "#fde0ef"
            ],
            [
             0.5,
             "#f7f7f7"
            ],
            [
             0.6,
             "#e6f5d0"
            ],
            [
             0.7,
             "#b8e186"
            ],
            [
             0.8,
             "#7fbc41"
            ],
            [
             0.9,
             "#4d9221"
            ],
            [
             1,
             "#276419"
            ]
           ]
          },
          "xaxis": {
           "gridcolor": "#283442",
           "linecolor": "#506784",
           "ticks": "",
           "title": {
            "standoff": 15
           },
           "zerolinecolor": "#283442",
           "automargin": true,
           "zerolinewidth": 2
          },
          "yaxis": {
           "gridcolor": "#283442",
           "linecolor": "#506784",
           "ticks": "",
           "title": {
            "standoff": 15
           },
           "zerolinecolor": "#283442",
           "automargin": true,
           "zerolinewidth": 2
          },
          "scene": {
           "xaxis": {
            "backgroundcolor": "rgb(17,17,17)",
            "gridcolor": "#506784",
            "linecolor": "#506784",
            "showbackground": true,
            "ticks": "",
            "zerolinecolor": "#C8D4E3",
            "gridwidth": 2
           },
           "yaxis": {
            "backgroundcolor": "rgb(17,17,17)",
            "gridcolor": "#506784",
            "linecolor": "#506784",
            "showbackground": true,
            "ticks": "",
            "zerolinecolor": "#C8D4E3",
            "gridwidth": 2
           },
           "zaxis": {
            "backgroundcolor": "rgb(17,17,17)",
            "gridcolor": "#506784",
            "linecolor": "#506784",
            "showbackground": true,
            "ticks": "",
            "zerolinecolor": "#C8D4E3",
            "gridwidth": 2
           }
          },
          "shapedefaults": {
           "line": {
            "color": "#f2f5fa"
           }
          },
          "annotationdefaults": {
           "arrowcolor": "#f2f5fa",
           "arrowhead": 0,
           "arrowwidth": 1
          },
          "geo": {
           "bgcolor": "rgb(17,17,17)",
           "landcolor": "rgb(17,17,17)",
           "subunitcolor": "#506784",
           "showland": true,
           "showlakes": true,
           "lakecolor": "rgb(17,17,17)"
          },
          "title": {
           "x": 0.05
          },
          "updatemenudefaults": {
           "bgcolor": "#506784",
           "borderwidth": 0
          },
          "sliderdefaults": {
           "bgcolor": "#C8D4E3",
           "borderwidth": 1,
           "bordercolor": "rgb(17,17,17)",
           "tickwidth": 0
          },
          "mapbox": {
           "style": "dark"
          }
         }
        },
        "xaxis": {
         "anchor": "y",
         "domain": [
          0.0,
          0.16799999999999998
         ]
        },
        "yaxis": {
         "anchor": "x",
         "domain": [
          0.0,
          1.0
         ]
        },
        "xaxis2": {
         "anchor": "y2",
         "domain": [
          0.208,
          0.376
         ]
        },
        "yaxis2": {
         "anchor": "x2",
         "domain": [
          0.0,
          1.0
         ],
         "matches": "y",
         "showticklabels": false
        },
        "xaxis3": {
         "anchor": "y3",
         "domain": [
          0.416,
          0.584
         ]
        },
        "yaxis3": {
         "anchor": "x3",
         "domain": [
          0.0,
          1.0
         ],
         "matches": "y",
         "showticklabels": false
        },
        "xaxis4": {
         "anchor": "y4",
         "domain": [
          0.624,
          0.792
         ]
        },
        "yaxis4": {
         "anchor": "x4",
         "domain": [
          0.0,
          1.0
         ],
         "matches": "y",
         "showticklabels": false
        },
        "xaxis5": {
         "anchor": "y5",
         "domain": [
          0.832,
          1.0
         ]
        },
        "yaxis5": {
         "anchor": "x5",
         "domain": [
          0.0,
          1.0
         ],
         "matches": "y",
         "showticklabels": false
        },
        "annotations": [
         {
          "font": {
           "size": 16
          },
          "showarrow": false,
          "text": "Точность",
          "x": 0.5,
          "xanchor": "center",
          "xref": "paper",
          "y": 0,
          "yanchor": "top",
          "yref": "paper",
          "yshift": -30
         },
         {
          "font": {
           "size": 16
          },
          "showarrow": false,
          "text": "Количество вычислений функции",
          "textangle": -90,
          "x": 0,
          "xanchor": "right",
          "xref": "paper",
          "xshift": -40,
          "y": 0.5,
          "yanchor": "middle",
          "yref": "paper"
         }
        ],
        "title": {
         "text": "Количество вычислений функции в зависимости от точности"
        }
       },
       "config": {
        "plotlyServerURL": "https://plot.ly"
       }
      },
      "text/html": "<div>                            <div id=\"538e6f9f-20ed-4686-aba1-57e74604baa8\" class=\"plotly-graph-div\" style=\"height:525px; width:100%;\"></div>            <script type=\"text/javascript\">                require([\"plotly\"], function(Plotly) {                    window.PLOTLYENV=window.PLOTLYENV || {};                                    if (document.getElementById(\"538e6f9f-20ed-4686-aba1-57e74604baa8\")) {                    Plotly.newPlot(                        \"538e6f9f-20ed-4686-aba1-57e74604baa8\",                        [{\"name\":\"dichotomy\",\"x\":[0.0001,0.0005,0.001],\"y\":[34.0,30.0,28.0],\"type\":\"scatter\",\"xaxis\":\"x\",\"yaxis\":\"y\"},{\"name\":\"fib\",\"x\":[0.0001,0.0005,0.001],\"y\":[22.0,18.0,17.0],\"type\":\"scatter\",\"xaxis\":\"x2\",\"yaxis\":\"y2\"},{\"name\":\"brenth\",\"x\":[0.0001,0.0005,0.001],\"y\":[16.0,13.0,12.0],\"type\":\"scatter\",\"xaxis\":\"x3\",\"yaxis\":\"y3\"},{\"name\":\"golden\",\"x\":[0.0001,0.0005,0.001],\"y\":[23.0,20.0,18.0],\"type\":\"scatter\",\"xaxis\":\"x4\",\"yaxis\":\"y4\"},{\"name\":\"parabolic\",\"x\":[0.0001,0.0005,0.001],\"y\":[5.0,5.0,5.0],\"type\":\"scatter\",\"xaxis\":\"x5\",\"yaxis\":\"y5\"}],                        {\"template\":{\"data\":{\"histogram2dcontour\":[{\"type\":\"histogram2dcontour\",\"colorbar\":{\"outlinewidth\":0,\"ticks\":\"\"},\"colorscale\":[[0.0,\"#0d0887\"],[0.1111111111111111,\"#46039f\"],[0.2222222222222222,\"#7201a8\"],[0.3333333333333333,\"#9c179e\"],[0.4444444444444444,\"#bd3786\"],[0.5555555555555556,\"#d8576b\"],[0.6666666666666666,\"#ed7953\"],[0.7777777777777778,\"#fb9f3a\"],[0.8888888888888888,\"#fdca26\"],[1.0,\"#f0f921\"]]}],\"choropleth\":[{\"type\":\"choropleth\",\"colorbar\":{\"outlinewidth\":0,\"ticks\":\"\"}}],\"histogram2d\":[{\"type\":\"histogram2d\",\"colorbar\":{\"outlinewidth\":0,\"ticks\":\"\"},\"colorscale\":[[0.0,\"#0d0887\"],[0.1111111111111111,\"#46039f\"],[0.2222222222222222,\"#7201a8\"],[0.3333333333333333,\"#9c179e\"],[0.4444444444444444,\"#bd3786\"],[0.5555555555555556,\"#d8576b\"],[0.6666666666666666,\"#ed7953\"],[0.7777777777777778,\"#fb9f3a\"],[0.8888888888888888,\"#fdca26\"],[1.0,\"#f0f921\"]]}],\"heatmap\":[{\"type\":\"heatmap\",\"colorbar\":{\"outlinewidth\":0,\"ticks\":\"\"},\"colorscale\":[[0.0,\"#0d0887\"],[0.1111111111111111,\"#46039f\"],[0.2222222222222222,\"#7201a8\"],[0.3333333333333333,\"#9c179e\"],[0.4444444444444444,\"#bd3786\"],[0.5555555555555556,\"#d8576b\"],[0.6666666666666666,\"#ed7953\"],[0.7777777777777778,\"#fb9f3a\"],[0.8888888888888888,\"#fdca26\"],[1.0,\"#f0f921\"]]}],\"heatmapgl\":[{\"type\":\"heatmapgl\",\"colorbar\":{\"outlinewidth\":0,\"ticks\":\"\"},\"colorscale\":[[0.0,\"#0d0887\"],[0.1111111111111111,\"#46039f\"],[0.2222222222222222,\"#7201a8\"],[0.3333333333333333,\"#9c179e\"],[0.4444444444444444,\"#bd3786\"],[0.5555555555555556,\"#d8576b\"],[0.6666666666666666,\"#ed7953\"],[0.7777777777777778,\"#fb9f3a\"],[0.8888888888888888,\"#fdca26\"],[1.0,\"#f0f921\"]]}],\"contourcarpet\":[{\"type\":\"contourcarpet\",\"colorbar\":{\"outlinewidth\":0,\"ticks\":\"\"}}],\"contour\":[{\"type\":\"contour\",\"colorbar\":{\"outlinewidth\":0,\"ticks\":\"\"},\"colorscale\":[[0.0,\"#0d0887\"],[0.1111111111111111,\"#46039f\"],[0.2222222222222222,\"#7201a8\"],[0.3333333333333333,\"#9c179e\"],[0.4444444444444444,\"#bd3786\"],[0.5555555555555556,\"#d8576b\"],[0.6666666666666666,\"#ed7953\"],[0.7777777777777778,\"#fb9f3a\"],[0.8888888888888888,\"#fdca26\"],[1.0,\"#f0f921\"]]}],\"surface\":[{\"type\":\"surface\",\"colorbar\":{\"outlinewidth\":0,\"ticks\":\"\"},\"colorscale\":[[0.0,\"#0d0887\"],[0.1111111111111111,\"#46039f\"],[0.2222222222222222,\"#7201a8\"],[0.3333333333333333,\"#9c179e\"],[0.4444444444444444,\"#bd3786\"],[0.5555555555555556,\"#d8576b\"],[0.6666666666666666,\"#ed7953\"],[0.7777777777777778,\"#fb9f3a\"],[0.8888888888888888,\"#fdca26\"],[1.0,\"#f0f921\"]]}],\"mesh3d\":[{\"type\":\"mesh3d\",\"colorbar\":{\"outlinewidth\":0,\"ticks\":\"\"}}],\"scatter\":[{\"marker\":{\"line\":{\"color\":\"#283442\"}},\"type\":\"scatter\"}],\"parcoords\":[{\"type\":\"parcoords\",\"line\":{\"colorbar\":{\"outlinewidth\":0,\"ticks\":\"\"}}}],\"scatterpolargl\":[{\"type\":\"scatterpolargl\",\"marker\":{\"colorbar\":{\"outlinewidth\":0,\"ticks\":\"\"}}}],\"bar\":[{\"error_x\":{\"color\":\"#f2f5fa\"},\"error_y\":{\"color\":\"#f2f5fa\"},\"marker\":{\"line\":{\"color\":\"rgb(17,17,17)\",\"width\":0.5},\"pattern\":{\"fillmode\":\"overlay\",\"size\":10,\"solidity\":0.2}},\"type\":\"bar\"}],\"scattergeo\":[{\"type\":\"scattergeo\",\"marker\":{\"colorbar\":{\"outlinewidth\":0,\"ticks\":\"\"}}}],\"scatterpolar\":[{\"type\":\"scatterpolar\",\"marker\":{\"colorbar\":{\"outlinewidth\":0,\"ticks\":\"\"}}}],\"histogram\":[{\"marker\":{\"pattern\":{\"fillmode\":\"overlay\",\"size\":10,\"solidity\":0.2}},\"type\":\"histogram\"}],\"scattergl\":[{\"marker\":{\"line\":{\"color\":\"#283442\"}},\"type\":\"scattergl\"}],\"scatter3d\":[{\"type\":\"scatter3d\",\"line\":{\"colorbar\":{\"outlinewidth\":0,\"ticks\":\"\"}},\"marker\":{\"colorbar\":{\"outlinewidth\":0,\"ticks\":\"\"}}}],\"scattermapbox\":[{\"type\":\"scattermapbox\",\"marker\":{\"colorbar\":{\"outlinewidth\":0,\"ticks\":\"\"}}}],\"scatterternary\":[{\"type\":\"scatterternary\",\"marker\":{\"colorbar\":{\"outlinewidth\":0,\"ticks\":\"\"}}}],\"scattercarpet\":[{\"type\":\"scattercarpet\",\"marker\":{\"colorbar\":{\"outlinewidth\":0,\"ticks\":\"\"}}}],\"carpet\":[{\"aaxis\":{\"endlinecolor\":\"#A2B1C6\",\"gridcolor\":\"#506784\",\"linecolor\":\"#506784\",\"minorgridcolor\":\"#506784\",\"startlinecolor\":\"#A2B1C6\"},\"baxis\":{\"endlinecolor\":\"#A2B1C6\",\"gridcolor\":\"#506784\",\"linecolor\":\"#506784\",\"minorgridcolor\":\"#506784\",\"startlinecolor\":\"#A2B1C6\"},\"type\":\"carpet\"}],\"table\":[{\"cells\":{\"fill\":{\"color\":\"#506784\"},\"line\":{\"color\":\"rgb(17,17,17)\"}},\"header\":{\"fill\":{\"color\":\"#2a3f5f\"},\"line\":{\"color\":\"rgb(17,17,17)\"}},\"type\":\"table\"}],\"barpolar\":[{\"marker\":{\"line\":{\"color\":\"rgb(17,17,17)\",\"width\":0.5},\"pattern\":{\"fillmode\":\"overlay\",\"size\":10,\"solidity\":0.2}},\"type\":\"barpolar\"}],\"pie\":[{\"automargin\":true,\"type\":\"pie\"}]},\"layout\":{\"autotypenumbers\":\"strict\",\"colorway\":[\"#636efa\",\"#EF553B\",\"#00cc96\",\"#ab63fa\",\"#FFA15A\",\"#19d3f3\",\"#FF6692\",\"#B6E880\",\"#FF97FF\",\"#FECB52\"],\"font\":{\"color\":\"#f2f5fa\"},\"hovermode\":\"closest\",\"hoverlabel\":{\"align\":\"left\"},\"paper_bgcolor\":\"rgb(17,17,17)\",\"plot_bgcolor\":\"rgb(17,17,17)\",\"polar\":{\"bgcolor\":\"rgb(17,17,17)\",\"angularaxis\":{\"gridcolor\":\"#506784\",\"linecolor\":\"#506784\",\"ticks\":\"\"},\"radialaxis\":{\"gridcolor\":\"#506784\",\"linecolor\":\"#506784\",\"ticks\":\"\"}},\"ternary\":{\"bgcolor\":\"rgb(17,17,17)\",\"aaxis\":{\"gridcolor\":\"#506784\",\"linecolor\":\"#506784\",\"ticks\":\"\"},\"baxis\":{\"gridcolor\":\"#506784\",\"linecolor\":\"#506784\",\"ticks\":\"\"},\"caxis\":{\"gridcolor\":\"#506784\",\"linecolor\":\"#506784\",\"ticks\":\"\"}},\"coloraxis\":{\"colorbar\":{\"outlinewidth\":0,\"ticks\":\"\"}},\"colorscale\":{\"sequential\":[[0.0,\"#0d0887\"],[0.1111111111111111,\"#46039f\"],[0.2222222222222222,\"#7201a8\"],[0.3333333333333333,\"#9c179e\"],[0.4444444444444444,\"#bd3786\"],[0.5555555555555556,\"#d8576b\"],[0.6666666666666666,\"#ed7953\"],[0.7777777777777778,\"#fb9f3a\"],[0.8888888888888888,\"#fdca26\"],[1.0,\"#f0f921\"]],\"sequentialminus\":[[0.0,\"#0d0887\"],[0.1111111111111111,\"#46039f\"],[0.2222222222222222,\"#7201a8\"],[0.3333333333333333,\"#9c179e\"],[0.4444444444444444,\"#bd3786\"],[0.5555555555555556,\"#d8576b\"],[0.6666666666666666,\"#ed7953\"],[0.7777777777777778,\"#fb9f3a\"],[0.8888888888888888,\"#fdca26\"],[1.0,\"#f0f921\"]],\"diverging\":[[0,\"#8e0152\"],[0.1,\"#c51b7d\"],[0.2,\"#de77ae\"],[0.3,\"#f1b6da\"],[0.4,\"#fde0ef\"],[0.5,\"#f7f7f7\"],[0.6,\"#e6f5d0\"],[0.7,\"#b8e186\"],[0.8,\"#7fbc41\"],[0.9,\"#4d9221\"],[1,\"#276419\"]]},\"xaxis\":{\"gridcolor\":\"#283442\",\"linecolor\":\"#506784\",\"ticks\":\"\",\"title\":{\"standoff\":15},\"zerolinecolor\":\"#283442\",\"automargin\":true,\"zerolinewidth\":2},\"yaxis\":{\"gridcolor\":\"#283442\",\"linecolor\":\"#506784\",\"ticks\":\"\",\"title\":{\"standoff\":15},\"zerolinecolor\":\"#283442\",\"automargin\":true,\"zerolinewidth\":2},\"scene\":{\"xaxis\":{\"backgroundcolor\":\"rgb(17,17,17)\",\"gridcolor\":\"#506784\",\"linecolor\":\"#506784\",\"showbackground\":true,\"ticks\":\"\",\"zerolinecolor\":\"#C8D4E3\",\"gridwidth\":2},\"yaxis\":{\"backgroundcolor\":\"rgb(17,17,17)\",\"gridcolor\":\"#506784\",\"linecolor\":\"#506784\",\"showbackground\":true,\"ticks\":\"\",\"zerolinecolor\":\"#C8D4E3\",\"gridwidth\":2},\"zaxis\":{\"backgroundcolor\":\"rgb(17,17,17)\",\"gridcolor\":\"#506784\",\"linecolor\":\"#506784\",\"showbackground\":true,\"ticks\":\"\",\"zerolinecolor\":\"#C8D4E3\",\"gridwidth\":2}},\"shapedefaults\":{\"line\":{\"color\":\"#f2f5fa\"}},\"annotationdefaults\":{\"arrowcolor\":\"#f2f5fa\",\"arrowhead\":0,\"arrowwidth\":1},\"geo\":{\"bgcolor\":\"rgb(17,17,17)\",\"landcolor\":\"rgb(17,17,17)\",\"subunitcolor\":\"#506784\",\"showland\":true,\"showlakes\":true,\"lakecolor\":\"rgb(17,17,17)\"},\"title\":{\"x\":0.05},\"updatemenudefaults\":{\"bgcolor\":\"#506784\",\"borderwidth\":0},\"sliderdefaults\":{\"bgcolor\":\"#C8D4E3\",\"borderwidth\":1,\"bordercolor\":\"rgb(17,17,17)\",\"tickwidth\":0},\"mapbox\":{\"style\":\"dark\"}}},\"xaxis\":{\"anchor\":\"y\",\"domain\":[0.0,0.16799999999999998]},\"yaxis\":{\"anchor\":\"x\",\"domain\":[0.0,1.0]},\"xaxis2\":{\"anchor\":\"y2\",\"domain\":[0.208,0.376]},\"yaxis2\":{\"anchor\":\"x2\",\"domain\":[0.0,1.0],\"matches\":\"y\",\"showticklabels\":false},\"xaxis3\":{\"anchor\":\"y3\",\"domain\":[0.416,0.584]},\"yaxis3\":{\"anchor\":\"x3\",\"domain\":[0.0,1.0],\"matches\":\"y\",\"showticklabels\":false},\"xaxis4\":{\"anchor\":\"y4\",\"domain\":[0.624,0.792]},\"yaxis4\":{\"anchor\":\"x4\",\"domain\":[0.0,1.0],\"matches\":\"y\",\"showticklabels\":false},\"xaxis5\":{\"anchor\":\"y5\",\"domain\":[0.832,1.0]},\"yaxis5\":{\"anchor\":\"x5\",\"domain\":[0.0,1.0],\"matches\":\"y\",\"showticklabels\":false},\"annotations\":[{\"font\":{\"size\":16},\"showarrow\":false,\"text\":\"\\u0422\\u043e\\u0447\\u043d\\u043e\\u0441\\u0442\\u044c\",\"x\":0.5,\"xanchor\":\"center\",\"xref\":\"paper\",\"y\":0,\"yanchor\":\"top\",\"yref\":\"paper\",\"yshift\":-30},{\"font\":{\"size\":16},\"showarrow\":false,\"text\":\"\\u041a\\u043e\\u043b\\u0438\\u0447\\u0435\\u0441\\u0442\\u0432\\u043e \\u0432\\u044b\\u0447\\u0438\\u0441\\u043b\\u0435\\u043d\\u0438\\u0439 \\u0444\\u0443\\u043d\\u043a\\u0446\\u0438\\u0438\",\"textangle\":-90,\"x\":0,\"xanchor\":\"right\",\"xref\":\"paper\",\"xshift\":-40,\"y\":0.5,\"yanchor\":\"middle\",\"yref\":\"paper\"}],\"title\":{\"text\":\"\\u041a\\u043e\\u043b\\u0438\\u0447\\u0435\\u0441\\u0442\\u0432\\u043e \\u0432\\u044b\\u0447\\u0438\\u0441\\u043b\\u0435\\u043d\\u0438\\u0439 \\u0444\\u0443\\u043d\\u043a\\u0446\\u0438\\u0438 \\u0432 \\u0437\\u0430\\u0432\\u0438\\u0441\\u0438\\u043c\\u043e\\u0441\\u0442\\u0438 \\u043e\\u0442 \\u0442\\u043e\\u0447\\u043d\\u043e\\u0441\\u0442\\u0438\"}},                        {\"responsive\": true}                    ).then(function(){\n                            \nvar gd = document.getElementById('538e6f9f-20ed-4686-aba1-57e74604baa8');\nvar x = new MutationObserver(function (mutations, observer) {{\n        var display = window.getComputedStyle(gd).display;\n        if (!display || display === 'none') {{\n            console.log([gd, 'removed!']);\n            Plotly.purge(gd);\n            observer.disconnect();\n        }}\n}});\n\n// Listen for the removal of the full notebook cells\nvar notebookContainer = gd.closest('#notebook-container');\nif (notebookContainer) {{\n    x.observe(notebookContainer, {childList: true});\n}}\n\n// Listen for the clearing of the current output cell\nvar outputEl = gd.closest('.output');\nif (outputEl) {{\n    x.observe(outputEl, {childList: true});\n}}\n\n                        })                };                });            </script>        </div>"
     },
     "metadata": {},
     "output_type": "display_data"
    }
   ],
   "source": [
    "test_functions(lambda x: np.sin(x)*x**2, 3, 5, [0.0001, 0.0005, 0.001])"
   ],
   "metadata": {
    "collapsed": false
   }
  },
  {
   "cell_type": "markdown",
   "source": [
    "#### Многомодальные функции\n"
   ],
   "metadata": {
    "collapsed": false
   }
  },
  {
   "cell_type": "code",
   "execution_count": 427,
   "outputs": [
    {
     "name": "stdout",
     "output_type": "stream",
     "text": [
      "(3.379867858886719, 15, 30, [[2.9996, 5], [2.9996, 4.0002], [2.9996, 3.5003], [3.24955, 3.5003], [3.374525, 3.5003], [3.374525, 3.4378125], [3.374525, 3.40656875], [3.374525, 3.390946875], [3.374525, 3.3831359375], [3.3784304687500004, 3.3831359375], [3.3784304687500004, 3.3811832031250004], [3.3794068359375005, 3.3811832031250004], [3.3794068359375005, 3.3806950195312506], [3.3794068359375005, 3.3804509277343753], [3.3794068359375005, 3.380328881835938]])\n",
      "(5.114144274902344, 15, 30, [[4.4996, 7], [4.4996, 5.7502], [4.4996, 5.1253], [4.81205, 5.1253], [4.968275, 5.1253], [5.046387500000001, 5.1253], [5.0854437500000005, 5.1253], [5.104971875, 5.1253], [5.104971875, 5.1155359375], [5.10985390625, 5.1155359375], [5.112294921875, 5.1155359375], [5.1135154296875, 5.1155359375], [5.1135154296875, 5.11492568359375], [5.1135154296875, 5.114620556640625], [5.1136679931640625, 5.114620556640625]])\n"
     ]
    }
   ],
   "source": [
    "print(dichotomy_method(lambda x: np.log2(x) * np.cos(x) + 4, 1, 5, 0.001))\n",
    "print(dichotomy_method(lambda x: np.sin(x) - np.log(x * x) - 1, 2, 7, 0.001))\n"
   ],
   "metadata": {
    "collapsed": false
   }
  },
  {
   "cell_type": "code",
   "execution_count": 428,
   "outputs": [
    {
     "name": "stdout",
     "output_type": "stream",
     "text": [
      "(3.380087488873614, 18, 20, [[2.527864045000421, 5], [2.527864045000421, 4.055728090000841], [3.1114561800016824, 4.055728090000841], [3.1114561800016824, 3.695048315002944], [3.1114561800016824, 3.472135954999579], [3.2492235949962143, 3.472135954999579], [3.3343685400050473, 3.472135954999579], [3.3343685400050473, 3.41951348501388], [3.366891015028181, 3.41951348501388], [3.366891015028181, 3.399413490051314], [3.366891015028181, 3.3869910099907465], [3.3745685299301793, 3.3869910099907465], [3.3745685299301793, 3.382246044832178], [3.377501079673609, 3.382246044832178], [3.379313495088748, 3.382246044832178], [3.379313495088748, 3.3811259105038873], [3.379313495088748, 3.3804336294170385], [3.3797413483301892, 3.3804336294170385]])\n",
      "(5.114327445221599, 18, 20, [[3.909830056250526, 7], [3.909830056250526, 5.819660112501051], [4.639320225002103, 5.819660112501051], [4.639320225002103, 5.36881039375368], [4.917960675006309, 5.36881039375368], [4.917960675006309, 5.196601125010515], [5.02439185626735, 5.196601125010515], [5.0901699437494745, 5.196601125010515], [5.0901699437494745, 5.155948031231598], [5.0901699437494745, 5.1308230375283905], [5.105698043825184, 5.1308230375283905], [5.105698043825184, 5.121226143900893], [5.111629250273395, 5.121226143900893], [5.111629250273395, 5.1175604567216055], [5.111629250273395, 5.115294937452682], [5.113029418183758, 5.115294937452682], [5.113894769542319, 5.115294937452682], [5.113894769542319, 5.11476012090088]])\n"
     ]
    }
   ],
   "source": [
    "print(golden_method(lambda x: np.log2(x) * np.cos(x) + 4, 1, 5, 0.001))\n",
    "print(golden_method(lambda x: np.sin(x) - np.log(x * x) - 1, 2, 7, 0.001))"
   ],
   "metadata": {
    "collapsed": false
   }
  },
  {
   "cell_type": "code",
   "execution_count": 429,
   "outputs": [
    {
     "name": "stdout",
     "output_type": "stream",
     "text": [
      "(3.380291796221, 16, 18, [[2.5278641473331738, 5], [2.5278641473331738, 4.0557282946663475], [3.111456589332695, 4.0557282946663475], [3.111456589332695, 3.695049031332217], [3.111456589332695, 3.4721358526668262], [3.2492226740014347, 3.4721358526668262], [3.334369767998086, 3.4721358526668262], [3.334369767998086, 3.419516861994738], [3.36689787132265, 3.419516861994738], [3.36689787132265, 3.3994259746472135], [3.36689787132265, 3.3869887586701743], [3.374551542693135, 3.3869887586701743], [3.374551542693135, 3.382205214063621], [3.3774216694570676, 3.382205214063621], [3.379335087299689, 3.382205214063621], [3.379335087299689, 3.3812485051423105]])\n",
      "(5.113821138211382, 17, 19, [[3.9098300073909833, 7], [3.9098300073909833, 5.819660014781967], [4.639320029563932, 5.819660014781967], [4.639320029563932, 5.368810051736881], [4.917960088691796, 5.368810051736881], [4.917960088691796, 5.196600147819661], [5.024390243902439, 5.196600147819661], [5.090169992609017, 5.196600147819661], [5.090169992609017, 5.155949741315595], [5.090169992609017, 5.130820399113082], [5.105691056910569, 5.130820399113082], [5.105691056910569, 5.121212121212121], [5.11160384331116, 5.121212121212121], [5.11160384331116, 5.117516629711751], [5.11160384331116, 5.11529933481153], [5.113082039911308, 5.11529933481153], [5.113082039911308, 5.114560236511456]])\n"
     ]
    }
   ],
   "source": [
    "print(fib_method(lambda x: np.log2(x) * np.cos(x) + 4, 1, 5, 0.001))\n",
    "print(fib_method(lambda x: np.sin(x) - np.log(x * x) - 1, 2, 7, 0.001))"
   ],
   "metadata": {
    "collapsed": false
   }
  },
  {
   "cell_type": "code",
   "execution_count": 430,
   "outputs": [
    {
     "name": "stdout",
     "output_type": "stream",
     "text": [
      "(3.3719473845663175, 3, 4, [[2.23606797749979, 5], [2.23606797749979, 3.76393202250021], [3.0, 3.76393202250021]])\n",
      "(5.114186673008508, 6, 7, [[3.5450849718747373, 7], [4.5, 7], [4.5, 5.454915028125263], [4.5, 5.171841875873757], [4.5, 5.116715613205998], [5.112750580535433, 5.116715613205998]])\n"
     ]
    }
   ],
   "source": [
    "print(brenth_method(lambda x: np.log2(x) * np.cos(x) + 4, 1, 5, 0.001))\n",
    "print(brenth_method(lambda x: np.sin(x) - np.log(x * x) - 1, 2, 7, 0.001))"
   ],
   "metadata": {
    "collapsed": false
   }
  },
  {
   "cell_type": "code",
   "execution_count": 431,
   "outputs": [
    {
     "name": "stdout",
     "output_type": "stream",
     "text": [
      "(3.3799160896733422, 8, 11, [[2.8265288234263193, 5], [3, 5], [3, 3.3894550811454995], [3.377052618982672, 3.3894550811454995], [3.3797131663472166, 3.3894550811454995], [3.379914583836345, 3.3894550811454995], [3.379916036385554, 3.3894550811454995], [3.379916036385554, 3.379916142961131]])\n",
      "(5.114642842621041, 7, 10, [[3, 7], [3, 5.573568331483849], [3, 5.424854062696903], [3, 5.1314036704785915], [3, 5.115115981540236], [5.113784658679103, 5.115115981540236], [5.1141697037018465, 5.115115981540236]])\n"
     ]
    }
   ],
   "source": [
    "print(parabolic_method(lambda x: np.log2(x) * np.cos(x) + 4, 1, 3, 5, 0.001))\n",
    "print(parabolic_method(lambda x: np.sin(x) - np.log(x * x) - 1, 2, 3, 7, 0.001))"
   ],
   "metadata": {
    "collapsed": false
   }
  },
  {
   "cell_type": "markdown",
   "source": [
    "##### Тестирование более сложных полиномов\n",
    "##### Метотд Брента"
   ],
   "metadata": {
    "collapsed": false
   }
  },
  {
   "cell_type": "code",
   "execution_count": 432,
   "outputs": [
    {
     "name": "stdout",
     "output_type": "stream",
     "text": [
      "(1.5922132963021307, 10, 11, [[-1.9098300562505255, 5], [0.0, 5], [0.0, 3.809833288110868], [0.0, 1.9098300562505255], [1.1803398874989486, 1.9098300562505255], [1.4224123566623719, 1.9098300562505255], [1.5495408960312715, 1.9098300562505255], [1.5495408960312715, 1.6213628004535074], [1.5495408960312715, 1.5943679306936531], [1.5906375012018013, 1.5943679306936531]])\n"
     ]
    }
   ],
   "source": [
    "print(brenth_method(lambda x: x**6 - 2*x**4 - 6*x**2 - 10*x - 18, -5, 5, 0.001))"
   ],
   "metadata": {
    "collapsed": false
   }
  },
  {
   "cell_type": "markdown",
   "source": [
    "Глобальный минимум находится рядом с локальным, метод Брента перепрыгивает локальный минимум (узкую впадину) и попадает ниже по пути к глобальному из-за высокой скорости сходимости"
   ],
   "metadata": {
    "collapsed": false
   }
  },
  {
   "cell_type": "code",
   "execution_count": 433,
   "outputs": [
    {
     "name": "stdout",
     "output_type": "stream",
     "text": [
      "(0.0025396833958376136, 3, 4, [[-7.639320225002102, 20], [-7.639320225002102, 7.639320225002102], [0.0, 7.639320225002102]])\n"
     ]
    }
   ],
   "source": [
    "print(brenth_method(lambda x: x**6 - 2*x**4 - 6*x**2 - 10*x - 18, -20, 20, 0.001))"
   ],
   "metadata": {
    "collapsed": false
   }
  },
  {
   "cell_type": "markdown",
   "source": [
    "В этом случае, начальное приближение выбрано недостаточно близко к минимиму, поэтому метод Брента начинается циклится в поиска минимума, совершая большие шаги"
   ],
   "metadata": {
    "collapsed": false
   }
  },
  {
   "cell_type": "markdown",
   "source": [
    "## Выводы\n",
    "По нашему мнению, самый эффективный метод нахождения локального минимума - метод\n",
    "Брента, так как это комбинация метода парабол и золотого сечения. Самые быстрые методы\n",
    "нахождения минимума - метод дихотомии и парабол. Однако эти алгоритмы часто обращаются к\n",
    "исследуемой функции, что увеличивают нагрузку на вычислительный узел. В качестве\n",
    "альтернативы быстрым или ненадежным решениям можно использовать метод Фибоначчи и\n",
    "метод золотого сечения. Оба этих метода гарантируют нахождение, не нагружая вычислительный\n",
    "аппарат вычислениями"
   ],
   "metadata": {
    "collapsed": false
   }
  },
  {
   "cell_type": "markdown",
   "source": [],
   "metadata": {
    "collapsed": false
   }
  }
 ],
 "metadata": {
  "kernelspec": {
   "display_name": "Python 3",
   "language": "python",
   "name": "python3"
  },
  "language_info": {
   "codemirror_mode": {
    "name": "ipython",
    "version": 2
   },
   "file_extension": ".py",
   "mimetype": "text/x-python",
   "name": "python",
   "nbconvert_exporter": "python",
   "pygments_lexer": "ipython2",
   "version": "2.7.6"
  }
 },
 "nbformat": 4,
 "nbformat_minor": 0
}
